{
  "cells": [
    {
      "cell_type": "markdown",
      "metadata": {
        "id": "bKStIP7SZmdx"
      },
      "source": [
        "# Abstractive Text Summarization Using the Transformer Model\n",
        "\n",
        "Abstractive Text Summarization is the task of generating a short and concise summary that captures the salient ideas of the source text. The generated summaries potentially contain new phrases and sentences that may NOT appear in the source text.\n",
        "\n",
        "A transformer is a deep learning model introduced in 2017 by a team at Google brain. It adopts the mechanism of self-attention, differentially weighting the significance of each part of the input data. Transformers are increasingly the model of choice for NLP problems, replacing recurrent neural network (RNN) models such as long short-term memory (LSTM).\n",
        "\n",
        "Here I used the transformer model for the task of abstractive text summarization. I used a dataset consisting of 0.5 million reviews of fine foods from amazon (available at https://www.kaggle.com/snap/amazon-fine-food-reviews). Each review comes with a summary of a few words. \n",
        "\n",
        "The model was written using the tensorflow package. The codes were run on google colab where free gpus are available for faster training. "
      ]
    },
    {
      "cell_type": "markdown",
      "metadata": {
        "id": "5U0VLa-jZmd3"
      },
      "source": [
        "##  Import packages"
      ]
    },
    {
      "cell_type": "code",
      "execution_count": 1,
      "metadata": {
        "id": "FptMQKUxMLzB"
      },
      "outputs": [],
      "source": [
        "import re\n",
        "import pandas as pd\n",
        "import numpy as np\n",
        "import tensorflow as tf\n",
        "import time\n",
        "from nltk.corpus import stopwords\n",
        "import matplotlib.pyplot as plt\n",
        "from sklearn.model_selection import train_test_split\n",
        "import nltk\n",
        "\n",
        "from tensorflow.keras.layers import Embedding, Dense, Input, Dropout, LayerNormalization\n",
        "from tensorflow.keras.optimizers import Adam\n",
        "from tensorflow.keras.losses import SparseCategoricalCrossentropy, CategoricalCrossentropy\n",
        "from tensorflow.keras.preprocessing.text import Tokenizer \n",
        "from tensorflow.keras.preprocessing.sequence import pad_sequences"
      ]
    },
    {
      "cell_type": "markdown",
      "metadata": {
        "id": "F3Qz6t9UZmd6"
      },
      "source": [
        "## Check GPU availability\n",
        "In Google colab, click Runtime --> Change runtime type and select GPU as Hardware accelerator. In this project I used a Tesla P100 GPU.  "
      ]
    },
    {
      "cell_type": "code",
      "execution_count": 2,
      "metadata": {
        "colab": {
          "base_uri": "https://localhost:8080/"
        },
        "id": "iL7NwzG1MLzG",
        "outputId": "3c123a74-fda2-40cf-dde7-831f44c2ebc4"
      },
      "outputs": [
        {
          "output_type": "stream",
          "name": "stdout",
          "text": [
            "Found GPU at: /device:GPU:0\n"
          ]
        }
      ],
      "source": [
        "%tensorflow_version 2.x\n",
        "device_name = tf.test.gpu_device_name()\n",
        "if device_name != '/device:GPU:0':\n",
        "  raise SystemError('GPU device not found')\n",
        "print('Found GPU at: {}'.format(device_name))"
      ]
    },
    {
      "cell_type": "code",
      "execution_count": 3,
      "metadata": {
        "colab": {
          "base_uri": "https://localhost:8080/"
        },
        "id": "Oa0549iWW7Wk",
        "outputId": "0b7ddcc9-d026-4f13-e768-ff95cda3a050"
      },
      "outputs": [
        {
          "output_type": "stream",
          "name": "stdout",
          "text": [
            "Mon Feb 14 16:28:30 2022       \n",
            "+-----------------------------------------------------------------------------+\n",
            "| NVIDIA-SMI 460.32.03    Driver Version: 460.32.03    CUDA Version: 11.2     |\n",
            "|-------------------------------+----------------------+----------------------+\n",
            "| GPU  Name        Persistence-M| Bus-Id        Disp.A | Volatile Uncorr. ECC |\n",
            "| Fan  Temp  Perf  Pwr:Usage/Cap|         Memory-Usage | GPU-Util  Compute M. |\n",
            "|                               |                      |               MIG M. |\n",
            "|===============================+======================+======================|\n",
            "|   0  Tesla P100-PCIE...  Off  | 00000000:00:04.0 Off |                    0 |\n",
            "| N/A   45C    P0    36W / 250W |    375MiB / 16280MiB |      2%      Default |\n",
            "|                               |                      |                  N/A |\n",
            "+-------------------------------+----------------------+----------------------+\n",
            "                                                                               \n",
            "+-----------------------------------------------------------------------------+\n",
            "| Processes:                                                                  |\n",
            "|  GPU   GI   CI        PID   Type   Process name                  GPU Memory |\n",
            "|        ID   ID                                                   Usage      |\n",
            "|=============================================================================|\n",
            "+-----------------------------------------------------------------------------+\n"
          ]
        }
      ],
      "source": [
        "!nvidia-smi"
      ]
    },
    {
      "cell_type": "markdown",
      "metadata": {
        "id": "NtiqOOq6Zmd9"
      },
      "source": [
        "## Load data\n",
        "First I mounted this colab to my own google drive and change the directory to the path of this project. Then I extracted the \"Text\" and the \"Summary\" column, and excluded rows where either the text or the summary is empty. Finally I shuffled the data."
      ]
    },
    {
      "cell_type": "code",
      "execution_count": 4,
      "metadata": {
        "colab": {
          "base_uri": "https://localhost:8080/"
        },
        "id": "I-2K1_vdXgL5",
        "outputId": "d4058926-f1a9-4a3c-948f-af6f74cc0324"
      },
      "outputs": [
        {
          "output_type": "stream",
          "name": "stdout",
          "text": [
            "Drive already mounted at /content/drive; to attempt to forcibly remount, call drive.mount(\"/content/drive\", force_remount=True).\n"
          ]
        }
      ],
      "source": [
        "from google.colab import drive\n",
        "drive.mount('/content/drive')"
      ]
    },
    {
      "cell_type": "code",
      "source": [
        "cd drive/MyDrive/text_summerization/"
      ],
      "metadata": {
        "colab": {
          "base_uri": "https://localhost:8080/"
        },
        "id": "nboetU91aEnV",
        "outputId": "eb074b70-b1a8-42cc-908d-25bc141a735f"
      },
      "execution_count": 5,
      "outputs": [
        {
          "output_type": "stream",
          "name": "stdout",
          "text": [
            "/content/drive/MyDrive/text_summerization\n"
          ]
        }
      ]
    },
    {
      "cell_type": "code",
      "execution_count": 6,
      "metadata": {
        "colab": {
          "base_uri": "https://localhost:8080/",
          "height": 204
        },
        "id": "zen3ERwIMLzI",
        "outputId": "7ca19619-df6d-4af0-f7d2-e1905bb65550"
      },
      "outputs": [
        {
          "output_type": "execute_result",
          "data": {
            "text/html": [
              "\n",
              "  <div id=\"df-88052935-bb62-4991-a25b-93c196318364\">\n",
              "    <div class=\"colab-df-container\">\n",
              "      <div>\n",
              "<style scoped>\n",
              "    .dataframe tbody tr th:only-of-type {\n",
              "        vertical-align: middle;\n",
              "    }\n",
              "\n",
              "    .dataframe tbody tr th {\n",
              "        vertical-align: top;\n",
              "    }\n",
              "\n",
              "    .dataframe thead th {\n",
              "        text-align: right;\n",
              "    }\n",
              "</style>\n",
              "<table border=\"1\" class=\"dataframe\">\n",
              "  <thead>\n",
              "    <tr style=\"text-align: right;\">\n",
              "      <th></th>\n",
              "      <th>Summary</th>\n",
              "      <th>Text</th>\n",
              "    </tr>\n",
              "  </thead>\n",
              "  <tbody>\n",
              "    <tr>\n",
              "      <th>0</th>\n",
              "      <td>Good Quality Dog Food</td>\n",
              "      <td>I have bought several of the Vitality canned d...</td>\n",
              "    </tr>\n",
              "    <tr>\n",
              "      <th>1</th>\n",
              "      <td>Not as Advertised</td>\n",
              "      <td>Product arrived labeled as Jumbo Salted Peanut...</td>\n",
              "    </tr>\n",
              "    <tr>\n",
              "      <th>2</th>\n",
              "      <td>\"Delight\" says it all</td>\n",
              "      <td>This is a confection that has been around a fe...</td>\n",
              "    </tr>\n",
              "    <tr>\n",
              "      <th>3</th>\n",
              "      <td>Cough Medicine</td>\n",
              "      <td>If you are looking for the secret ingredient i...</td>\n",
              "    </tr>\n",
              "    <tr>\n",
              "      <th>4</th>\n",
              "      <td>Great taffy</td>\n",
              "      <td>Great taffy at a great price.  There was a wid...</td>\n",
              "    </tr>\n",
              "  </tbody>\n",
              "</table>\n",
              "</div>\n",
              "      <button class=\"colab-df-convert\" onclick=\"convertToInteractive('df-88052935-bb62-4991-a25b-93c196318364')\"\n",
              "              title=\"Convert this dataframe to an interactive table.\"\n",
              "              style=\"display:none;\">\n",
              "        \n",
              "  <svg xmlns=\"http://www.w3.org/2000/svg\" height=\"24px\"viewBox=\"0 0 24 24\"\n",
              "       width=\"24px\">\n",
              "    <path d=\"M0 0h24v24H0V0z\" fill=\"none\"/>\n",
              "    <path d=\"M18.56 5.44l.94 2.06.94-2.06 2.06-.94-2.06-.94-.94-2.06-.94 2.06-2.06.94zm-11 1L8.5 8.5l.94-2.06 2.06-.94-2.06-.94L8.5 2.5l-.94 2.06-2.06.94zm10 10l.94 2.06.94-2.06 2.06-.94-2.06-.94-.94-2.06-.94 2.06-2.06.94z\"/><path d=\"M17.41 7.96l-1.37-1.37c-.4-.4-.92-.59-1.43-.59-.52 0-1.04.2-1.43.59L10.3 9.45l-7.72 7.72c-.78.78-.78 2.05 0 2.83L4 21.41c.39.39.9.59 1.41.59.51 0 1.02-.2 1.41-.59l7.78-7.78 2.81-2.81c.8-.78.8-2.07 0-2.86zM5.41 20L4 18.59l7.72-7.72 1.47 1.35L5.41 20z\"/>\n",
              "  </svg>\n",
              "      </button>\n",
              "      \n",
              "  <style>\n",
              "    .colab-df-container {\n",
              "      display:flex;\n",
              "      flex-wrap:wrap;\n",
              "      gap: 12px;\n",
              "    }\n",
              "\n",
              "    .colab-df-convert {\n",
              "      background-color: #E8F0FE;\n",
              "      border: none;\n",
              "      border-radius: 50%;\n",
              "      cursor: pointer;\n",
              "      display: none;\n",
              "      fill: #1967D2;\n",
              "      height: 32px;\n",
              "      padding: 0 0 0 0;\n",
              "      width: 32px;\n",
              "    }\n",
              "\n",
              "    .colab-df-convert:hover {\n",
              "      background-color: #E2EBFA;\n",
              "      box-shadow: 0px 1px 2px rgba(60, 64, 67, 0.3), 0px 1px 3px 1px rgba(60, 64, 67, 0.15);\n",
              "      fill: #174EA6;\n",
              "    }\n",
              "\n",
              "    [theme=dark] .colab-df-convert {\n",
              "      background-color: #3B4455;\n",
              "      fill: #D2E3FC;\n",
              "    }\n",
              "\n",
              "    [theme=dark] .colab-df-convert:hover {\n",
              "      background-color: #434B5C;\n",
              "      box-shadow: 0px 1px 3px 1px rgba(0, 0, 0, 0.15);\n",
              "      filter: drop-shadow(0px 1px 2px rgba(0, 0, 0, 0.3));\n",
              "      fill: #FFFFFF;\n",
              "    }\n",
              "  </style>\n",
              "\n",
              "      <script>\n",
              "        const buttonEl =\n",
              "          document.querySelector('#df-88052935-bb62-4991-a25b-93c196318364 button.colab-df-convert');\n",
              "        buttonEl.style.display =\n",
              "          google.colab.kernel.accessAllowed ? 'block' : 'none';\n",
              "\n",
              "        async function convertToInteractive(key) {\n",
              "          const element = document.querySelector('#df-88052935-bb62-4991-a25b-93c196318364');\n",
              "          const dataTable =\n",
              "            await google.colab.kernel.invokeFunction('convertToInteractive',\n",
              "                                                     [key], {});\n",
              "          if (!dataTable) return;\n",
              "\n",
              "          const docLinkHtml = 'Like what you see? Visit the ' +\n",
              "            '<a target=\"_blank\" href=https://colab.research.google.com/notebooks/data_table.ipynb>data table notebook</a>'\n",
              "            + ' to learn more about interactive tables.';\n",
              "          element.innerHTML = '';\n",
              "          dataTable['output_type'] = 'display_data';\n",
              "          await google.colab.output.renderOutput(dataTable, element);\n",
              "          const docLink = document.createElement('div');\n",
              "          docLink.innerHTML = docLinkHtml;\n",
              "          element.appendChild(docLink);\n",
              "        }\n",
              "      </script>\n",
              "    </div>\n",
              "  </div>\n",
              "  "
            ],
            "text/plain": [
              "                 Summary                                               Text\n",
              "0  Good Quality Dog Food  I have bought several of the Vitality canned d...\n",
              "1      Not as Advertised  Product arrived labeled as Jumbo Salted Peanut...\n",
              "2  \"Delight\" says it all  This is a confection that has been around a fe...\n",
              "3         Cough Medicine  If you are looking for the secret ingredient i...\n",
              "4            Great taffy  Great taffy at a great price.  There was a wid..."
            ]
          },
          "metadata": {},
          "execution_count": 6
        }
      ],
      "source": [
        "data = pd.read_csv('Reviews.csv')\n",
        "reviews = data[['Summary','Text']]\n",
        "reviews.head()"
      ]
    },
    {
      "cell_type": "code",
      "execution_count": 7,
      "metadata": {
        "colab": {
          "base_uri": "https://localhost:8080/"
        },
        "id": "fxfoxh_IMLzJ",
        "outputId": "52298b21-68a8-430d-f2a5-a9a1dbb02133"
      },
      "outputs": [
        {
          "output_type": "execute_result",
          "data": {
            "text/plain": [
              "Summary    27\n",
              "Text        0\n",
              "dtype: int64"
            ]
          },
          "metadata": {},
          "execution_count": 7
        }
      ],
      "source": [
        "reviews.isnull().sum()"
      ]
    },
    {
      "cell_type": "code",
      "execution_count": 8,
      "metadata": {
        "id": "fHcOi_RGMLzK"
      },
      "outputs": [],
      "source": [
        "reviews = reviews.dropna()"
      ]
    },
    {
      "cell_type": "code",
      "execution_count": 9,
      "metadata": {
        "colab": {
          "base_uri": "https://localhost:8080/",
          "height": 204
        },
        "id": "HGDyARLOMLzK",
        "outputId": "6bed0f44-7754-4ea9-9815-0b1ae0ef2e3a"
      },
      "outputs": [
        {
          "output_type": "execute_result",
          "data": {
            "text/html": [
              "\n",
              "  <div id=\"df-8672a5a8-2220-42d5-af38-98dd4fa792ae\">\n",
              "    <div class=\"colab-df-container\">\n",
              "      <div>\n",
              "<style scoped>\n",
              "    .dataframe tbody tr th:only-of-type {\n",
              "        vertical-align: middle;\n",
              "    }\n",
              "\n",
              "    .dataframe tbody tr th {\n",
              "        vertical-align: top;\n",
              "    }\n",
              "\n",
              "    .dataframe thead th {\n",
              "        text-align: right;\n",
              "    }\n",
              "</style>\n",
              "<table border=\"1\" class=\"dataframe\">\n",
              "  <thead>\n",
              "    <tr style=\"text-align: right;\">\n",
              "      <th></th>\n",
              "      <th>Summary</th>\n",
              "      <th>Text</th>\n",
              "    </tr>\n",
              "  </thead>\n",
              "  <tbody>\n",
              "    <tr>\n",
              "      <th>0</th>\n",
              "      <td>Like a raspberry chocolate brownie.</td>\n",
              "      <td>This is a very tasty treat. 250 cal., 13g fat ...</td>\n",
              "    </tr>\n",
              "    <tr>\n",
              "      <th>1</th>\n",
              "      <td>Tastes like coconut water from a fresh coconut...</td>\n",
              "      <td>I've spent at least a hundred bucks on the old...</td>\n",
              "    </tr>\n",
              "    <tr>\n",
              "      <th>2</th>\n",
              "      <td>This tea is the Best!!!!!!!!!!!</td>\n",
              "      <td>I've looked around for many chamomile teas. Th...</td>\n",
              "    </tr>\n",
              "    <tr>\n",
              "      <th>3</th>\n",
              "      <td>ok flavor, too much like bacon bits</td>\n",
              "      <td>ok flavor,  tasted too much like bacon bits. i...</td>\n",
              "    </tr>\n",
              "    <tr>\n",
              "      <th>4</th>\n",
              "      <td>BEST PRICE ANYWHERE!</td>\n",
              "      <td>I hate coffee so I love 5 Hour Energy.  I also...</td>\n",
              "    </tr>\n",
              "  </tbody>\n",
              "</table>\n",
              "</div>\n",
              "      <button class=\"colab-df-convert\" onclick=\"convertToInteractive('df-8672a5a8-2220-42d5-af38-98dd4fa792ae')\"\n",
              "              title=\"Convert this dataframe to an interactive table.\"\n",
              "              style=\"display:none;\">\n",
              "        \n",
              "  <svg xmlns=\"http://www.w3.org/2000/svg\" height=\"24px\"viewBox=\"0 0 24 24\"\n",
              "       width=\"24px\">\n",
              "    <path d=\"M0 0h24v24H0V0z\" fill=\"none\"/>\n",
              "    <path d=\"M18.56 5.44l.94 2.06.94-2.06 2.06-.94-2.06-.94-.94-2.06-.94 2.06-2.06.94zm-11 1L8.5 8.5l.94-2.06 2.06-.94-2.06-.94L8.5 2.5l-.94 2.06-2.06.94zm10 10l.94 2.06.94-2.06 2.06-.94-2.06-.94-.94-2.06-.94 2.06-2.06.94z\"/><path d=\"M17.41 7.96l-1.37-1.37c-.4-.4-.92-.59-1.43-.59-.52 0-1.04.2-1.43.59L10.3 9.45l-7.72 7.72c-.78.78-.78 2.05 0 2.83L4 21.41c.39.39.9.59 1.41.59.51 0 1.02-.2 1.41-.59l7.78-7.78 2.81-2.81c.8-.78.8-2.07 0-2.86zM5.41 20L4 18.59l7.72-7.72 1.47 1.35L5.41 20z\"/>\n",
              "  </svg>\n",
              "      </button>\n",
              "      \n",
              "  <style>\n",
              "    .colab-df-container {\n",
              "      display:flex;\n",
              "      flex-wrap:wrap;\n",
              "      gap: 12px;\n",
              "    }\n",
              "\n",
              "    .colab-df-convert {\n",
              "      background-color: #E8F0FE;\n",
              "      border: none;\n",
              "      border-radius: 50%;\n",
              "      cursor: pointer;\n",
              "      display: none;\n",
              "      fill: #1967D2;\n",
              "      height: 32px;\n",
              "      padding: 0 0 0 0;\n",
              "      width: 32px;\n",
              "    }\n",
              "\n",
              "    .colab-df-convert:hover {\n",
              "      background-color: #E2EBFA;\n",
              "      box-shadow: 0px 1px 2px rgba(60, 64, 67, 0.3), 0px 1px 3px 1px rgba(60, 64, 67, 0.15);\n",
              "      fill: #174EA6;\n",
              "    }\n",
              "\n",
              "    [theme=dark] .colab-df-convert {\n",
              "      background-color: #3B4455;\n",
              "      fill: #D2E3FC;\n",
              "    }\n",
              "\n",
              "    [theme=dark] .colab-df-convert:hover {\n",
              "      background-color: #434B5C;\n",
              "      box-shadow: 0px 1px 3px 1px rgba(0, 0, 0, 0.15);\n",
              "      filter: drop-shadow(0px 1px 2px rgba(0, 0, 0, 0.3));\n",
              "      fill: #FFFFFF;\n",
              "    }\n",
              "  </style>\n",
              "\n",
              "      <script>\n",
              "        const buttonEl =\n",
              "          document.querySelector('#df-8672a5a8-2220-42d5-af38-98dd4fa792ae button.colab-df-convert');\n",
              "        buttonEl.style.display =\n",
              "          google.colab.kernel.accessAllowed ? 'block' : 'none';\n",
              "\n",
              "        async function convertToInteractive(key) {\n",
              "          const element = document.querySelector('#df-8672a5a8-2220-42d5-af38-98dd4fa792ae');\n",
              "          const dataTable =\n",
              "            await google.colab.kernel.invokeFunction('convertToInteractive',\n",
              "                                                     [key], {});\n",
              "          if (!dataTable) return;\n",
              "\n",
              "          const docLinkHtml = 'Like what you see? Visit the ' +\n",
              "            '<a target=\"_blank\" href=https://colab.research.google.com/notebooks/data_table.ipynb>data table notebook</a>'\n",
              "            + ' to learn more about interactive tables.';\n",
              "          element.innerHTML = '';\n",
              "          dataTable['output_type'] = 'display_data';\n",
              "          await google.colab.output.renderOutput(dataTable, element);\n",
              "          const docLink = document.createElement('div');\n",
              "          docLink.innerHTML = docLinkHtml;\n",
              "          element.appendChild(docLink);\n",
              "        }\n",
              "      </script>\n",
              "    </div>\n",
              "  </div>\n",
              "  "
            ],
            "text/plain": [
              "                                             Summary                                               Text\n",
              "0                Like a raspberry chocolate brownie.  This is a very tasty treat. 250 cal., 13g fat ...\n",
              "1  Tastes like coconut water from a fresh coconut...  I've spent at least a hundred bucks on the old...\n",
              "2                    This tea is the Best!!!!!!!!!!!  I've looked around for many chamomile teas. Th...\n",
              "3                ok flavor, too much like bacon bits  ok flavor,  tasted too much like bacon bits. i...\n",
              "4                               BEST PRICE ANYWHERE!  I hate coffee so I love 5 Hour Energy.  I also..."
            ]
          },
          "metadata": {},
          "execution_count": 9
        }
      ],
      "source": [
        "from sklearn.utils import shuffle\n",
        "# shuffling the data \n",
        "reviews = shuffle(reviews)\n",
        "reviews = reviews.reset_index(drop=True)\n",
        "reviews.head()"
      ]
    },
    {
      "cell_type": "code",
      "execution_count": 10,
      "metadata": {
        "id": "SQSXEmOnMLzL"
      },
      "outputs": [],
      "source": [
        "summary, review_text = pd.DataFrame(), pd.DataFrame()\n",
        "summary['Summary'] = reviews['Summary']\n",
        "review_text['Text'] = reviews['Text']"
      ]
    },
    {
      "cell_type": "markdown",
      "metadata": {
        "id": "hl5Ge38IZmeC"
      },
      "source": [
        "## Clean data\n",
        "I (i) made all words lowercase, (ii) removed unwanted characters such as http links, (iii) removed stop words such as \"the\", \"one\", ..., which are commonly used but do not contirbute to the meaning of a sentence, and (iv) converted abbreviations to the long form (for example \"ain't\" to \"is not\") "
      ]
    },
    {
      "cell_type": "code",
      "execution_count": 11,
      "metadata": {
        "colab": {
          "base_uri": "https://localhost:8080/"
        },
        "id": "ew4jn0tsMLzL",
        "outputId": "f5b6a4b5-8b2e-46f1-d51c-da8a261de06d"
      },
      "outputs": [
        {
          "output_type": "stream",
          "name": "stdout",
          "text": [
            "short form: ain't ;  long form: is not\n"
          ]
        }
      ],
      "source": [
        "contraction_mapping = np.load('contraction_mapping.npy', allow_pickle=True).item()\n",
        "(short,long) = next(iter(contraction_mapping.items()))\n",
        "print('short form:', short, ';  long form:', long)"
      ]
    },
    {
      "cell_type": "code",
      "execution_count": 12,
      "metadata": {
        "id": "ws_ouno5MLzM",
        "colab": {
          "base_uri": "https://localhost:8080/"
        },
        "outputId": "acea89e2-281c-418f-e5ec-b00431da758a"
      },
      "outputs": [
        {
          "output_type": "stream",
          "name": "stdout",
          "text": [
            "[nltk_data] Downloading package stopwords to /root/nltk_data...\n",
            "[nltk_data]   Package stopwords is already up-to-date!\n"
          ]
        }
      ],
      "source": [
        "nltk.download('stopwords')\n",
        "stop_words = set(stopwords.words('english')) "
      ]
    },
    {
      "cell_type": "code",
      "execution_count": 13,
      "metadata": {
        "id": "imV95Kj5MLzN"
      },
      "outputs": [],
      "source": [
        "def clean_data(text, remove_stopwords=False):\n",
        "    \n",
        "    # Make all words lowercase\n",
        "    text = str(text).lower()\n",
        "    \n",
        "    # Format words and remove unwanted characters\n",
        "    text = re.sub(r'https?:\\/\\/.*[\\r\\n]*', '', text, flags=re.MULTILINE)\n",
        "    text = re.sub(r'\\<a href', ' ', text)\n",
        "    text = re.sub(r'&amp;', '', text) \n",
        "    text = re.sub(r'[_\"\\-;%()|+&=*%.,!?:#$@\\[\\]/]', ' ', text)\n",
        "    text = re.sub(r'<br />', ' ', text)\n",
        "    \n",
        "    text = text.split()\n",
        "    \n",
        "    # Remove stopwords that are not important for the meaning of a sentence\n",
        "    if(remove_stopwords):\n",
        "        new_text = []\n",
        "        for word in text:\n",
        "            if word in stop_words:\n",
        "                continue\n",
        "            else:\n",
        "                new_text.append(word)\n",
        "        text = new_text\n",
        "    \n",
        "    # Replace contractions with their longer forms \n",
        "    new_text = []\n",
        "    for word in text:\n",
        "        if word in contraction_mapping:\n",
        "            new_text.append(contraction_mapping[word])\n",
        "        else:\n",
        "            new_text.append(word)\n",
        "    text = \" \".join(new_text)\n",
        "      \n",
        "    text = re.sub(r'\\'', ' ', text)\n",
        "    \n",
        "    return text\n",
        "    "
      ]
    },
    {
      "cell_type": "code",
      "execution_count": 14,
      "metadata": {
        "id": "GDD_uochMLzN"
      },
      "outputs": [],
      "source": [
        "summary['Summary'] = summary['Summary'].apply(lambda x: clean_data(x, remove_stopwords=True))\n",
        "review_text['Text'] = review_text['Text'].apply(lambda x: clean_data(x, remove_stopwords=True))"
      ]
    },
    {
      "cell_type": "code",
      "execution_count": 15,
      "metadata": {
        "id": "ABJbSViOZmeF"
      },
      "outputs": [],
      "source": [
        "# Remove data which only consists of stopwords.\n",
        "ind = (summary['Summary']!='')&(review_text['Text']!='')\n",
        "summary = summary[ind]\n",
        "review_text = review_text[ind]"
      ]
    },
    {
      "cell_type": "code",
      "execution_count": 16,
      "metadata": {
        "colab": {
          "base_uri": "https://localhost:8080/",
          "height": 204
        },
        "id": "QqpAndNRMLzO",
        "outputId": "2396d369-e5a2-4580-d7b2-8a7684e4911d"
      },
      "outputs": [
        {
          "output_type": "execute_result",
          "data": {
            "text/html": [
              "\n",
              "  <div id=\"df-c5471676-60c5-430d-96f9-20078ab6a2ca\">\n",
              "    <div class=\"colab-df-container\">\n",
              "      <div>\n",
              "<style scoped>\n",
              "    .dataframe tbody tr th:only-of-type {\n",
              "        vertical-align: middle;\n",
              "    }\n",
              "\n",
              "    .dataframe tbody tr th {\n",
              "        vertical-align: top;\n",
              "    }\n",
              "\n",
              "    .dataframe thead th {\n",
              "        text-align: right;\n",
              "    }\n",
              "</style>\n",
              "<table border=\"1\" class=\"dataframe\">\n",
              "  <thead>\n",
              "    <tr style=\"text-align: right;\">\n",
              "      <th></th>\n",
              "      <th>Summary</th>\n",
              "    </tr>\n",
              "  </thead>\n",
              "  <tbody>\n",
              "    <tr>\n",
              "      <th>0</th>\n",
              "      <td>like raspberry chocolate brownie</td>\n",
              "    </tr>\n",
              "    <tr>\n",
              "      <th>1</th>\n",
              "      <td>tastes like coconut water fresh coconut stored...</td>\n",
              "    </tr>\n",
              "    <tr>\n",
              "      <th>2</th>\n",
              "      <td>tea best</td>\n",
              "    </tr>\n",
              "    <tr>\n",
              "      <th>3</th>\n",
              "      <td>ok flavor much like bacon bits</td>\n",
              "    </tr>\n",
              "    <tr>\n",
              "      <th>4</th>\n",
              "      <td>best price anywhere</td>\n",
              "    </tr>\n",
              "  </tbody>\n",
              "</table>\n",
              "</div>\n",
              "      <button class=\"colab-df-convert\" onclick=\"convertToInteractive('df-c5471676-60c5-430d-96f9-20078ab6a2ca')\"\n",
              "              title=\"Convert this dataframe to an interactive table.\"\n",
              "              style=\"display:none;\">\n",
              "        \n",
              "  <svg xmlns=\"http://www.w3.org/2000/svg\" height=\"24px\"viewBox=\"0 0 24 24\"\n",
              "       width=\"24px\">\n",
              "    <path d=\"M0 0h24v24H0V0z\" fill=\"none\"/>\n",
              "    <path d=\"M18.56 5.44l.94 2.06.94-2.06 2.06-.94-2.06-.94-.94-2.06-.94 2.06-2.06.94zm-11 1L8.5 8.5l.94-2.06 2.06-.94-2.06-.94L8.5 2.5l-.94 2.06-2.06.94zm10 10l.94 2.06.94-2.06 2.06-.94-2.06-.94-.94-2.06-.94 2.06-2.06.94z\"/><path d=\"M17.41 7.96l-1.37-1.37c-.4-.4-.92-.59-1.43-.59-.52 0-1.04.2-1.43.59L10.3 9.45l-7.72 7.72c-.78.78-.78 2.05 0 2.83L4 21.41c.39.39.9.59 1.41.59.51 0 1.02-.2 1.41-.59l7.78-7.78 2.81-2.81c.8-.78.8-2.07 0-2.86zM5.41 20L4 18.59l7.72-7.72 1.47 1.35L5.41 20z\"/>\n",
              "  </svg>\n",
              "      </button>\n",
              "      \n",
              "  <style>\n",
              "    .colab-df-container {\n",
              "      display:flex;\n",
              "      flex-wrap:wrap;\n",
              "      gap: 12px;\n",
              "    }\n",
              "\n",
              "    .colab-df-convert {\n",
              "      background-color: #E8F0FE;\n",
              "      border: none;\n",
              "      border-radius: 50%;\n",
              "      cursor: pointer;\n",
              "      display: none;\n",
              "      fill: #1967D2;\n",
              "      height: 32px;\n",
              "      padding: 0 0 0 0;\n",
              "      width: 32px;\n",
              "    }\n",
              "\n",
              "    .colab-df-convert:hover {\n",
              "      background-color: #E2EBFA;\n",
              "      box-shadow: 0px 1px 2px rgba(60, 64, 67, 0.3), 0px 1px 3px 1px rgba(60, 64, 67, 0.15);\n",
              "      fill: #174EA6;\n",
              "    }\n",
              "\n",
              "    [theme=dark] .colab-df-convert {\n",
              "      background-color: #3B4455;\n",
              "      fill: #D2E3FC;\n",
              "    }\n",
              "\n",
              "    [theme=dark] .colab-df-convert:hover {\n",
              "      background-color: #434B5C;\n",
              "      box-shadow: 0px 1px 3px 1px rgba(0, 0, 0, 0.15);\n",
              "      filter: drop-shadow(0px 1px 2px rgba(0, 0, 0, 0.3));\n",
              "      fill: #FFFFFF;\n",
              "    }\n",
              "  </style>\n",
              "\n",
              "      <script>\n",
              "        const buttonEl =\n",
              "          document.querySelector('#df-c5471676-60c5-430d-96f9-20078ab6a2ca button.colab-df-convert');\n",
              "        buttonEl.style.display =\n",
              "          google.colab.kernel.accessAllowed ? 'block' : 'none';\n",
              "\n",
              "        async function convertToInteractive(key) {\n",
              "          const element = document.querySelector('#df-c5471676-60c5-430d-96f9-20078ab6a2ca');\n",
              "          const dataTable =\n",
              "            await google.colab.kernel.invokeFunction('convertToInteractive',\n",
              "                                                     [key], {});\n",
              "          if (!dataTable) return;\n",
              "\n",
              "          const docLinkHtml = 'Like what you see? Visit the ' +\n",
              "            '<a target=\"_blank\" href=https://colab.research.google.com/notebooks/data_table.ipynb>data table notebook</a>'\n",
              "            + ' to learn more about interactive tables.';\n",
              "          element.innerHTML = '';\n",
              "          dataTable['output_type'] = 'display_data';\n",
              "          await google.colab.output.renderOutput(dataTable, element);\n",
              "          const docLink = document.createElement('div');\n",
              "          docLink.innerHTML = docLinkHtml;\n",
              "          element.appendChild(docLink);\n",
              "        }\n",
              "      </script>\n",
              "    </div>\n",
              "  </div>\n",
              "  "
            ],
            "text/plain": [
              "                                             Summary\n",
              "0                   like raspberry chocolate brownie\n",
              "1  tastes like coconut water fresh coconut stored...\n",
              "2                                           tea best\n",
              "3                     ok flavor much like bacon bits\n",
              "4                                best price anywhere"
            ]
          },
          "metadata": {},
          "execution_count": 16
        }
      ],
      "source": [
        "summary.head()"
      ]
    },
    {
      "cell_type": "code",
      "execution_count": 17,
      "metadata": {
        "colab": {
          "base_uri": "https://localhost:8080/",
          "height": 204
        },
        "id": "9lPCjklnMLzO",
        "outputId": "4ae62caa-2126-4cc8-a8eb-7c64fe1f0f7c"
      },
      "outputs": [
        {
          "output_type": "execute_result",
          "data": {
            "text/html": [
              "\n",
              "  <div id=\"df-9ef061bf-8676-499e-968d-9f1dc7384dcb\">\n",
              "    <div class=\"colab-df-container\">\n",
              "      <div>\n",
              "<style scoped>\n",
              "    .dataframe tbody tr th:only-of-type {\n",
              "        vertical-align: middle;\n",
              "    }\n",
              "\n",
              "    .dataframe tbody tr th {\n",
              "        vertical-align: top;\n",
              "    }\n",
              "\n",
              "    .dataframe thead th {\n",
              "        text-align: right;\n",
              "    }\n",
              "</style>\n",
              "<table border=\"1\" class=\"dataframe\">\n",
              "  <thead>\n",
              "    <tr style=\"text-align: right;\">\n",
              "      <th></th>\n",
              "      <th>Text</th>\n",
              "    </tr>\n",
              "  </thead>\n",
              "  <tbody>\n",
              "    <tr>\n",
              "      <th>0</th>\n",
              "      <td>tasty treat 250 cal 13g fat 2g saturated chole...</td>\n",
              "    </tr>\n",
              "    <tr>\n",
              "      <th>1</th>\n",
              "      <td>i have spent least hundred bucks old zico boxe...</td>\n",
              "    </tr>\n",
              "    <tr>\n",
              "      <th>2</th>\n",
              "      <td>i have looked around many chamomile teas one b...</td>\n",
              "    </tr>\n",
              "    <tr>\n",
              "      <th>3</th>\n",
              "      <td>ok flavor tasted much like bacon bits got sale...</td>\n",
              "    </tr>\n",
              "    <tr>\n",
              "      <th>4</th>\n",
              "      <td>hate coffee love 5 hour energy also hate payin...</td>\n",
              "    </tr>\n",
              "  </tbody>\n",
              "</table>\n",
              "</div>\n",
              "      <button class=\"colab-df-convert\" onclick=\"convertToInteractive('df-9ef061bf-8676-499e-968d-9f1dc7384dcb')\"\n",
              "              title=\"Convert this dataframe to an interactive table.\"\n",
              "              style=\"display:none;\">\n",
              "        \n",
              "  <svg xmlns=\"http://www.w3.org/2000/svg\" height=\"24px\"viewBox=\"0 0 24 24\"\n",
              "       width=\"24px\">\n",
              "    <path d=\"M0 0h24v24H0V0z\" fill=\"none\"/>\n",
              "    <path d=\"M18.56 5.44l.94 2.06.94-2.06 2.06-.94-2.06-.94-.94-2.06-.94 2.06-2.06.94zm-11 1L8.5 8.5l.94-2.06 2.06-.94-2.06-.94L8.5 2.5l-.94 2.06-2.06.94zm10 10l.94 2.06.94-2.06 2.06-.94-2.06-.94-.94-2.06-.94 2.06-2.06.94z\"/><path d=\"M17.41 7.96l-1.37-1.37c-.4-.4-.92-.59-1.43-.59-.52 0-1.04.2-1.43.59L10.3 9.45l-7.72 7.72c-.78.78-.78 2.05 0 2.83L4 21.41c.39.39.9.59 1.41.59.51 0 1.02-.2 1.41-.59l7.78-7.78 2.81-2.81c.8-.78.8-2.07 0-2.86zM5.41 20L4 18.59l7.72-7.72 1.47 1.35L5.41 20z\"/>\n",
              "  </svg>\n",
              "      </button>\n",
              "      \n",
              "  <style>\n",
              "    .colab-df-container {\n",
              "      display:flex;\n",
              "      flex-wrap:wrap;\n",
              "      gap: 12px;\n",
              "    }\n",
              "\n",
              "    .colab-df-convert {\n",
              "      background-color: #E8F0FE;\n",
              "      border: none;\n",
              "      border-radius: 50%;\n",
              "      cursor: pointer;\n",
              "      display: none;\n",
              "      fill: #1967D2;\n",
              "      height: 32px;\n",
              "      padding: 0 0 0 0;\n",
              "      width: 32px;\n",
              "    }\n",
              "\n",
              "    .colab-df-convert:hover {\n",
              "      background-color: #E2EBFA;\n",
              "      box-shadow: 0px 1px 2px rgba(60, 64, 67, 0.3), 0px 1px 3px 1px rgba(60, 64, 67, 0.15);\n",
              "      fill: #174EA6;\n",
              "    }\n",
              "\n",
              "    [theme=dark] .colab-df-convert {\n",
              "      background-color: #3B4455;\n",
              "      fill: #D2E3FC;\n",
              "    }\n",
              "\n",
              "    [theme=dark] .colab-df-convert:hover {\n",
              "      background-color: #434B5C;\n",
              "      box-shadow: 0px 1px 3px 1px rgba(0, 0, 0, 0.15);\n",
              "      filter: drop-shadow(0px 1px 2px rgba(0, 0, 0, 0.3));\n",
              "      fill: #FFFFFF;\n",
              "    }\n",
              "  </style>\n",
              "\n",
              "      <script>\n",
              "        const buttonEl =\n",
              "          document.querySelector('#df-9ef061bf-8676-499e-968d-9f1dc7384dcb button.colab-df-convert');\n",
              "        buttonEl.style.display =\n",
              "          google.colab.kernel.accessAllowed ? 'block' : 'none';\n",
              "\n",
              "        async function convertToInteractive(key) {\n",
              "          const element = document.querySelector('#df-9ef061bf-8676-499e-968d-9f1dc7384dcb');\n",
              "          const dataTable =\n",
              "            await google.colab.kernel.invokeFunction('convertToInteractive',\n",
              "                                                     [key], {});\n",
              "          if (!dataTable) return;\n",
              "\n",
              "          const docLinkHtml = 'Like what you see? Visit the ' +\n",
              "            '<a target=\"_blank\" href=https://colab.research.google.com/notebooks/data_table.ipynb>data table notebook</a>'\n",
              "            + ' to learn more about interactive tables.';\n",
              "          element.innerHTML = '';\n",
              "          dataTable['output_type'] = 'display_data';\n",
              "          await google.colab.output.renderOutput(dataTable, element);\n",
              "          const docLink = document.createElement('div');\n",
              "          docLink.innerHTML = docLinkHtml;\n",
              "          element.appendChild(docLink);\n",
              "        }\n",
              "      </script>\n",
              "    </div>\n",
              "  </div>\n",
              "  "
            ],
            "text/plain": [
              "                                                Text\n",
              "0  tasty treat 250 cal 13g fat 2g saturated chole...\n",
              "1  i have spent least hundred bucks old zico boxe...\n",
              "2  i have looked around many chamomile teas one b...\n",
              "3  ok flavor tasted much like bacon bits got sale...\n",
              "4  hate coffee love 5 hour energy also hate payin..."
            ]
          },
          "metadata": {},
          "execution_count": 17
        }
      ],
      "source": [
        "review_text.head()"
      ]
    },
    {
      "cell_type": "code",
      "execution_count": 18,
      "metadata": {
        "colab": {
          "base_uri": "https://localhost:8080/",
          "height": 204
        },
        "id": "3Cl4p4vQMLzP",
        "outputId": "0a3856cd-dec0-4567-fba7-cb010fe61150"
      },
      "outputs": [
        {
          "output_type": "execute_result",
          "data": {
            "text/html": [
              "\n",
              "  <div id=\"df-ff7b11dc-b84b-41a6-a3e8-4442bf10387c\">\n",
              "    <div class=\"colab-df-container\">\n",
              "      <div>\n",
              "<style scoped>\n",
              "    .dataframe tbody tr th:only-of-type {\n",
              "        vertical-align: middle;\n",
              "    }\n",
              "\n",
              "    .dataframe tbody tr th {\n",
              "        vertical-align: top;\n",
              "    }\n",
              "\n",
              "    .dataframe thead th {\n",
              "        text-align: right;\n",
              "    }\n",
              "</style>\n",
              "<table border=\"1\" class=\"dataframe\">\n",
              "  <thead>\n",
              "    <tr style=\"text-align: right;\">\n",
              "      <th></th>\n",
              "      <th>Summary</th>\n",
              "      <th>Text</th>\n",
              "    </tr>\n",
              "  </thead>\n",
              "  <tbody>\n",
              "    <tr>\n",
              "      <th>0</th>\n",
              "      <td>Like a raspberry chocolate brownie.</td>\n",
              "      <td>This is a very tasty treat. 250 cal., 13g fat ...</td>\n",
              "    </tr>\n",
              "    <tr>\n",
              "      <th>1</th>\n",
              "      <td>Tastes like coconut water from a fresh coconut...</td>\n",
              "      <td>I've spent at least a hundred bucks on the old...</td>\n",
              "    </tr>\n",
              "    <tr>\n",
              "      <th>2</th>\n",
              "      <td>This tea is the Best!!!!!!!!!!!</td>\n",
              "      <td>I've looked around for many chamomile teas. Th...</td>\n",
              "    </tr>\n",
              "    <tr>\n",
              "      <th>3</th>\n",
              "      <td>ok flavor, too much like bacon bits</td>\n",
              "      <td>ok flavor,  tasted too much like bacon bits. i...</td>\n",
              "    </tr>\n",
              "    <tr>\n",
              "      <th>4</th>\n",
              "      <td>BEST PRICE ANYWHERE!</td>\n",
              "      <td>I hate coffee so I love 5 Hour Energy.  I also...</td>\n",
              "    </tr>\n",
              "  </tbody>\n",
              "</table>\n",
              "</div>\n",
              "      <button class=\"colab-df-convert\" onclick=\"convertToInteractive('df-ff7b11dc-b84b-41a6-a3e8-4442bf10387c')\"\n",
              "              title=\"Convert this dataframe to an interactive table.\"\n",
              "              style=\"display:none;\">\n",
              "        \n",
              "  <svg xmlns=\"http://www.w3.org/2000/svg\" height=\"24px\"viewBox=\"0 0 24 24\"\n",
              "       width=\"24px\">\n",
              "    <path d=\"M0 0h24v24H0V0z\" fill=\"none\"/>\n",
              "    <path d=\"M18.56 5.44l.94 2.06.94-2.06 2.06-.94-2.06-.94-.94-2.06-.94 2.06-2.06.94zm-11 1L8.5 8.5l.94-2.06 2.06-.94-2.06-.94L8.5 2.5l-.94 2.06-2.06.94zm10 10l.94 2.06.94-2.06 2.06-.94-2.06-.94-.94-2.06-.94 2.06-2.06.94z\"/><path d=\"M17.41 7.96l-1.37-1.37c-.4-.4-.92-.59-1.43-.59-.52 0-1.04.2-1.43.59L10.3 9.45l-7.72 7.72c-.78.78-.78 2.05 0 2.83L4 21.41c.39.39.9.59 1.41.59.51 0 1.02-.2 1.41-.59l7.78-7.78 2.81-2.81c.8-.78.8-2.07 0-2.86zM5.41 20L4 18.59l7.72-7.72 1.47 1.35L5.41 20z\"/>\n",
              "  </svg>\n",
              "      </button>\n",
              "      \n",
              "  <style>\n",
              "    .colab-df-container {\n",
              "      display:flex;\n",
              "      flex-wrap:wrap;\n",
              "      gap: 12px;\n",
              "    }\n",
              "\n",
              "    .colab-df-convert {\n",
              "      background-color: #E8F0FE;\n",
              "      border: none;\n",
              "      border-radius: 50%;\n",
              "      cursor: pointer;\n",
              "      display: none;\n",
              "      fill: #1967D2;\n",
              "      height: 32px;\n",
              "      padding: 0 0 0 0;\n",
              "      width: 32px;\n",
              "    }\n",
              "\n",
              "    .colab-df-convert:hover {\n",
              "      background-color: #E2EBFA;\n",
              "      box-shadow: 0px 1px 2px rgba(60, 64, 67, 0.3), 0px 1px 3px 1px rgba(60, 64, 67, 0.15);\n",
              "      fill: #174EA6;\n",
              "    }\n",
              "\n",
              "    [theme=dark] .colab-df-convert {\n",
              "      background-color: #3B4455;\n",
              "      fill: #D2E3FC;\n",
              "    }\n",
              "\n",
              "    [theme=dark] .colab-df-convert:hover {\n",
              "      background-color: #434B5C;\n",
              "      box-shadow: 0px 1px 3px 1px rgba(0, 0, 0, 0.15);\n",
              "      filter: drop-shadow(0px 1px 2px rgba(0, 0, 0, 0.3));\n",
              "      fill: #FFFFFF;\n",
              "    }\n",
              "  </style>\n",
              "\n",
              "      <script>\n",
              "        const buttonEl =\n",
              "          document.querySelector('#df-ff7b11dc-b84b-41a6-a3e8-4442bf10387c button.colab-df-convert');\n",
              "        buttonEl.style.display =\n",
              "          google.colab.kernel.accessAllowed ? 'block' : 'none';\n",
              "\n",
              "        async function convertToInteractive(key) {\n",
              "          const element = document.querySelector('#df-ff7b11dc-b84b-41a6-a3e8-4442bf10387c');\n",
              "          const dataTable =\n",
              "            await google.colab.kernel.invokeFunction('convertToInteractive',\n",
              "                                                     [key], {});\n",
              "          if (!dataTable) return;\n",
              "\n",
              "          const docLinkHtml = 'Like what you see? Visit the ' +\n",
              "            '<a target=\"_blank\" href=https://colab.research.google.com/notebooks/data_table.ipynb>data table notebook</a>'\n",
              "            + ' to learn more about interactive tables.';\n",
              "          element.innerHTML = '';\n",
              "          dataTable['output_type'] = 'display_data';\n",
              "          await google.colab.output.renderOutput(dataTable, element);\n",
              "          const docLink = document.createElement('div');\n",
              "          docLink.innerHTML = docLinkHtml;\n",
              "          element.appendChild(docLink);\n",
              "        }\n",
              "      </script>\n",
              "    </div>\n",
              "  </div>\n",
              "  "
            ],
            "text/plain": [
              "                                             Summary                                               Text\n",
              "0                Like a raspberry chocolate brownie.  This is a very tasty treat. 250 cal., 13g fat ...\n",
              "1  Tastes like coconut water from a fresh coconut...  I've spent at least a hundred bucks on the old...\n",
              "2                    This tea is the Best!!!!!!!!!!!  I've looked around for many chamomile teas. Th...\n",
              "3                ok flavor, too much like bacon bits  ok flavor,  tasted too much like bacon bits. i...\n",
              "4                               BEST PRICE ANYWHERE!  I hate coffee so I love 5 Hour Energy.  I also..."
            ]
          },
          "metadata": {},
          "execution_count": 18
        }
      ],
      "source": [
        "reviews.head()"
      ]
    },
    {
      "cell_type": "markdown",
      "metadata": {
        "id": "WlU7kPSiMLzP"
      },
      "source": [
        "## Length statistics\n",
        "Here I counted the number of words in the cleaned review texts and cleaned summary. The statistics are important to decide how I pad the data. "
      ]
    },
    {
      "cell_type": "code",
      "execution_count": 19,
      "metadata": {
        "id": "B5tevc19MLzQ"
      },
      "outputs": [],
      "source": [
        "def count_length(data):\n",
        "    length = {}\n",
        "    for text in data:\n",
        "        l = len(text.split())\n",
        "        if(l not in length):\n",
        "            length[l] = 1\n",
        "        else:\n",
        "            length[l] += 1\n",
        "    \n",
        "    stats = np.zeros(max(length)+1)\n",
        "    \n",
        "    for i in length:\n",
        "        stats[i] = length[i]\n",
        "    total = np.sum(stats)\n",
        "    cdf = np.cumsum(stats) / total\n",
        "    \n",
        "    return stats, cdf\n",
        "    "
      ]
    },
    {
      "cell_type": "code",
      "execution_count": 20,
      "metadata": {
        "id": "A5z-5QuhMLzQ"
      },
      "outputs": [],
      "source": [
        "text_length, text_length_cdf = count_length(review_text['Text'])\n",
        "summary_length, summary_length_cdf = count_length(summary['Summary'])"
      ]
    },
    {
      "cell_type": "code",
      "execution_count": 21,
      "metadata": {
        "colab": {
          "base_uri": "https://localhost:8080/",
          "height": 312
        },
        "id": "0JY66Gj5MLzR",
        "outputId": "2fe620a6-40f9-4c0a-b16c-69e262789f16"
      },
      "outputs": [
        {
          "output_type": "stream",
          "name": "stdout",
          "text": [
            "For long review texts, 90% of the data has <= 85 words, 95% of the data has <= 117 words,  and 99% of the data has <= 211 words\n"
          ]
        },
        {
          "output_type": "display_data",
          "data": {
            "image/png": "[encoded data removed]",
            "text/plain": [
              "<Figure size 432x288 with 1 Axes>"
            ]
          },
          "metadata": {
            "needs_background": "light"
          }
        }
      ],
      "source": [
        "plt.bar(np.arange(len(text_length)),text_length)\n",
        "plt.ylabel('count')\n",
        "plt.xlabel('number of words')\n",
        "plt.xlim([0,100])\n",
        "plt.title('long review texts')\n",
        "print('For long review texts, 90% of the data has <=', np.sum(text_length_cdf<0.9), 'words,', '95% of the data has <=', np.sum(text_length_cdf<0.95), 'words,', ' and 99% of the data has <=', np.sum(text_length_cdf<0.99), 'words')"
      ]
    },
    {
      "cell_type": "code",
      "execution_count": 22,
      "metadata": {
        "colab": {
          "base_uri": "https://localhost:8080/",
          "height": 312
        },
        "id": "_add2WAJMLzR",
        "outputId": "fb59eda1-51f1-46cf-ecdc-67025a5b34d7"
      },
      "outputs": [
        {
          "output_type": "stream",
          "name": "stdout",
          "text": [
            "For summaries, 90% of the data has <= 5 words, 95% of the data has <= 6 words,  and 99% of the data has <= 8 words\n"
          ]
        },
        {
          "output_type": "display_data",
          "data": {
            "image/png": "[encoded data removed]",
            "text/plain": [
              "<Figure size 432x288 with 1 Axes>"
            ]
          },
          "metadata": {
            "needs_background": "light"
          }
        }
      ],
      "source": [
        "plt.bar(np.arange(len(summary_length)),summary_length)\n",
        "plt.ylabel('count')\n",
        "plt.xlabel('number of words')\n",
        "plt.xlim([0,20])\n",
        "plt.title('long review texts')\n",
        "print('For summaries, 90% of the data has <=', np.sum(summary_length_cdf<0.9), 'words,', '95% of the data has <=', np.sum(summary_length_cdf<0.95), 'words,', ' and 99% of the data has <=', np.sum(summary_length_cdf<0.99), 'words')"
      ]
    },
    {
      "cell_type": "markdown",
      "metadata": {
        "id": "FuXoH78NZmeJ"
      },
      "source": [
        "## Pretrained embedding coverage\n",
        "In this project I used pretrained embeddings which usually greatly makes training faster. I compared two pretrained embeddings, glove50 and numberbatch. I checked how many words are covered by each embedding vocabulary and found glove50 is slightly better. Thus I used golve50 embeddings in this project."
      ]
    },
    {
      "cell_type": "code",
      "execution_count": 23,
      "metadata": {
        "id": "EHuHna-TMLzS"
      },
      "outputs": [],
      "source": [
        "start_token, end_token = '<SOS>' , '<EOS>'\n",
        "summary['Summary'] = summary['Summary'].apply(lambda x: start_token + ' ' + x + ' ' + end_token)\n",
        "review_text['Text'] = review_text['Text'].apply(lambda x: start_token + ' ' + x + ' ' + end_token)"
      ]
    },
    {
      "cell_type": "code",
      "execution_count": 24,
      "metadata": {
        "id": "XKz2oeAPMLzS"
      },
      "outputs": [],
      "source": [
        "tokenizer = Tokenizer()\n",
        "tokenizer.fit_on_texts(list(summary['Summary'].values)+list(review_text['Text']))"
      ]
    },
    {
      "cell_type": "code",
      "execution_count": 25,
      "metadata": {
        "id": "nZ0UguePMLzT"
      },
      "outputs": [],
      "source": [
        "def read_embedding(filename):\n",
        "    \n",
        "    embeddings_index = {}\n",
        "    f = open(filename)\n",
        "    for line in f:\n",
        "        values = line.split()\n",
        "        word = values[0]\n",
        "        coefs = np.asarray(values[1:], dtype='float32')\n",
        "        embeddings_index[word] = coefs\n",
        "    f.close()\n",
        "    \n",
        "    return embeddings_index"
      ]
    },
    {
      "cell_type": "code",
      "execution_count": 26,
      "metadata": {
        "id": "1mcoBlezMLzT"
      },
      "outputs": [],
      "source": [
        "embeddings_index1 = read_embedding('glove.6B/glove.6B.50d.txt')\n",
        "embeddings_index2 = read_embedding('numberbatch-en-19.08.txt')"
      ]
    },
    {
      "cell_type": "code",
      "execution_count": 27,
      "metadata": {
        "id": "Cg9D90WQMLzT"
      },
      "outputs": [],
      "source": [
        "# Check how good the words in pre-trained embeddings cover the reviews\n",
        "# calculate total number of words and unique words in the review\n",
        "n_words = np.sum(list(tokenizer.word_counts.values()))\n",
        "i_words = len(tokenizer.word_counts)\n",
        "\n",
        "# calculate the number of words appearing larger than 3, 5, and 10 times in the review\n",
        "i_words_3 = sum(count>3 for (word,count) in tokenizer.word_counts.items())\n",
        "i_words_5 = sum(count>5 for (word,count) in tokenizer.word_counts.items())\n",
        "i_words_10 = sum(count>10 for (word,count) in tokenizer.word_counts.items())\n",
        "\n",
        "# calculate the percentage of the reviews consisting of words appear larger than 3, 5, and 10 times\n",
        "n_words_3 = sum(count*(count>3) for (word,count) in tokenizer.word_counts.items())\n",
        "n_words_5 = sum(count*(count>5) for (word,count) in tokenizer.word_counts.items())\n",
        "n_words_10 = sum(count*(count>10) for (word,count) in tokenizer.word_counts.items())\n",
        "\n",
        "# calculate the number of words appearing > 3,5,10 times in the reivew are covered by the pretrained embeddings\n",
        "i_words_3_1 = sum((count>3 and word in embeddings_index1) for (word,count) in tokenizer.word_counts.items())\n",
        "i_words_3_2 = sum((count>3 and word in embeddings_index2) for (word,count) in tokenizer.word_counts.items())\n",
        "i_words_5_1 = sum((count>5 and word in embeddings_index1) for (word,count) in tokenizer.word_counts.items())\n",
        "i_words_5_2 = sum((count>5 and word in embeddings_index2) for (word,count) in tokenizer.word_counts.items())\n",
        "i_words_10_1 = sum((count>10 and word in embeddings_index1) for (word,count) in tokenizer.word_counts.items())\n",
        "i_words_10_2 = sum((count>10 and word in embeddings_index2) for (word,count) in tokenizer.word_counts.items())\n",
        "\n",
        "# caculate the percentage of the words in reviews appearing > 3,5,10 times are covered by the pretrained embeddings\n",
        "n_words_3_1 = sum(count*(count>3 and word in embeddings_index1) for (word,count) in tokenizer.word_counts.items())\n",
        "n_words_3_2 = sum(count*(count>3 and word in embeddings_index2) for (word,count) in tokenizer.word_counts.items())\n",
        "n_words_5_1 = sum(count*(count>5 and word in embeddings_index1) for (word,count) in tokenizer.word_counts.items())\n",
        "n_words_5_2 = sum(count*(count>5 and word in embeddings_index2) for (word,count) in tokenizer.word_counts.items())\n",
        "n_words_10_1 = sum(count*(count>10 and word in embeddings_index1) for (word,count) in tokenizer.word_counts.items())\n",
        "n_words_10_2 = sum(count*(count>10 and word in embeddings_index2) for (word,count) in tokenizer.word_counts.items())"
      ]
    },
    {
      "cell_type": "code",
      "execution_count": 28,
      "metadata": {
        "colab": {
          "base_uri": "https://localhost:8080/"
        },
        "id": "Ok4A3q-pMLzU",
        "outputId": "0bb65070-4c7b-4916-e09a-50bf449ee126"
      },
      "outputs": [
        {
          "output_type": "stream",
          "name": "stdout",
          "text": [
            "There are 116453 unique words in the reviews, the total word number is 27806392 \n",
            "\n",
            "42.0 % of the unique words appear > 3 times. 99.7 % of the review words are these words. For words appearing > 3 times, 76.0 % are covered by the pretrained embedding glove-50, 98.8 % of the review words are these words. 73.0 % are covered by the pretrained embedding numberbatch, 97.8 % of the review words are these words.\n",
            "\n",
            "34.0 % of the unique words appear > 5 times. 99.5 % of the review words are these words. For words appearing > 5 times, 81.0 % are covered by the pretrained embedding glove-50, 98.8 % of the review words are these words. 78.0 % are covered by the pretrained embedding numberbatch, 97.8 % of the review words are these words.\n",
            "\n",
            "25.0 % of the unique words appear > 10 times. 99.2 % of the review words are these words. For words appearing > 10 times, 87.0 % are covered by the pretrained embedding glove-50, 98.6 % of the review words are these words. 84.0 % are covered by the pretrained embedding numberbatch, 97.6 % of the review words are these words.\n",
            "\n"
          ]
        }
      ],
      "source": [
        "print(\"There are\", i_words, \"unique words in the reviews, the total word number is\", n_words,'\\n')\n",
        "\n",
        "print(round(i_words_3/i_words,2)*100, '% of the unique words appear > 3 times.', round(n_words_3/n_words,3)*100, '% of the review words are these words. For words appearing > 3 times,', round(i_words_3_1/i_words_3,2)*100, '% are covered by the pretrained embedding glove-50,', round(n_words_3_1/n_words,3)*100, '% of the review words are these words.', round(i_words_3_2/i_words_3,2)*100, '% are covered by the pretrained embedding numberbatch,', round(n_words_3_2/n_words,3)*100, '% of the review words are these words.\\n')\n",
        "\n",
        "print(round(i_words_5/i_words,2)*100, '% of the unique words appear > 5 times.', round(n_words_5/n_words,3)*100, '% of the review words are these words. For words appearing > 5 times,', round(i_words_5_1/i_words_5,2)*100, '% are covered by the pretrained embedding glove-50,', round(n_words_5_1/n_words,3)*100, '% of the review words are these words.', round(i_words_5_2/i_words_5,2)*100, '% are covered by the pretrained embedding numberbatch,', round(n_words_5_2/n_words,3)*100, '% of the review words are these words.\\n')\n",
        "\n",
        "print(round(i_words_10/i_words,2)*100, '% of the unique words appear > 10 times.', round(n_words_10/n_words,3)*100, '% of the review words are these words. For words appearing > 10 times,', round(i_words_10_1/i_words_10,2)*100, '% are covered by the pretrained embedding glove-50,', round(n_words_10_1/n_words,3)*100, '% of the review words are these words.', round(i_words_10_2/i_words_10,2)*100, '% are covered by the pretrained embedding numberbatch,', round(n_words_10_2/n_words,3)*100, '% of the review words are these words.\\n')\n"
      ]
    },
    {
      "cell_type": "markdown",
      "metadata": {
        "id": "Z5YROJKbZmeO"
      },
      "source": [
        "### Missing words\n",
        "I checked what are missing from the glove50 embedding vocabulary. I found that the missing words are typically misspelling words or specific names. These words only appear < 10 times and account for only 2.4% of the reviews. So it's reasonable to neglect them. Thus I updated the vocabulary by excluding these words and used an \"< UNK >\" token to represent these words."
      ]
    },
    {
      "cell_type": "code",
      "execution_count": 29,
      "metadata": {
        "colab": {
          "base_uri": "https://localhost:8080/"
        },
        "id": "NJU_837JMLzV",
        "outputId": "2c2a884a-bfaf-44ef-9303-685f6c33ef4a"
      },
      "outputs": [
        {
          "output_type": "stream",
          "name": "stdout",
          "text": [
            "['jttodd', 'tastey', 'metromint', 'artisinal', 'yummmmmmm', 'snacky', 'superiour', 'kcup', 'sweetner', 'bustelo', 'zevia', 'coffe', 'larabar', 'nomnomnomnomnom', 'zukes', 'peanutbutter', 'krusteaz', 'mmmmh', 'jummy', 'yummies']\n"
          ]
        }
      ],
      "source": [
        "n = 20\n",
        "missingwords = []\n",
        "for (word,count) in tokenizer.word_counts.items():\n",
        "    if(n>0 and word not in embeddings_index1 and count > 10):\n",
        "        missingwords.append(word)\n",
        "        n -= 1\n",
        "print(missingwords)"
      ]
    },
    {
      "cell_type": "code",
      "execution_count": 30,
      "metadata": {
        "id": "PW3KC2wcMLzW"
      },
      "outputs": [],
      "source": [
        "x_tr, x_val, y_tr, y_val = train_test_split(np.array(review_text['Text']), np.array(summary['Summary']), test_size=0.1, random_state=0, shuffle=True) "
      ]
    },
    {
      "cell_type": "code",
      "execution_count": 31,
      "metadata": {
        "id": "wucTTOdfMLzW"
      },
      "outputs": [],
      "source": [
        "tokenizer_model = Tokenizer(num_words=i_words_10+1, oov_token='<UNK>')\n",
        "tokenizer_model.fit_on_texts(list(summary['Summary'].values)+list(review_text['Text']))"
      ]
    },
    {
      "cell_type": "code",
      "execution_count": 32,
      "metadata": {
        "colab": {
          "base_uri": "https://localhost:8080/"
        },
        "id": "gnQAJcsGMLzW",
        "outputId": "3bc3c571-635b-4b50-b7e7-e20b06146271"
      },
      "outputs": [
        {
          "output_type": "execute_result",
          "data": {
            "text/plain": [
              "[[3, 5048]]"
            ]
          },
          "metadata": {},
          "execution_count": 32
        }
      ],
      "source": [
        "tokenizer_model.texts_to_sequences(['<EOS> awsome'])"
      ]
    },
    {
      "cell_type": "code",
      "execution_count": 33,
      "metadata": {
        "colab": {
          "base_uri": "https://localhost:8080/"
        },
        "id": "mOR66NYpMLzX",
        "outputId": "c6168da7-e9dc-4f70-9670-a68981a865d7"
      },
      "outputs": [
        {
          "output_type": "execute_result",
          "data": {
            "text/plain": [
              "[[3, 1]]"
            ]
          },
          "metadata": {},
          "execution_count": 33
        }
      ],
      "source": [
        "new_dict = {}\n",
        "new_dict2 = {}\n",
        "new_dict['<UNK>'] = 1\n",
        "new_dict2[1] = '<UNK>'\n",
        "label = 2\n",
        "for (key, value) in tokenizer_model.word_index.items():\n",
        "    if(key != '<UNK>' and tokenizer_model.word_counts[key]>10 and key in embeddings_index1):\n",
        "        new_dict[key] = label\n",
        "        label +=1\n",
        "        new_dict2[value] = key\n",
        "\n",
        "tokenizer_model.word_index = new_dict\n",
        "tokenizer_model.index_word = new_dict2\n",
        "\n",
        "tokenizer_model.texts_to_sequences(['<EOS> choclate'])"
      ]
    },
    {
      "cell_type": "markdown",
      "metadata": {
        "id": "RiGij5r1ZmeT"
      },
      "source": [
        "## Preprocessing the data\n",
        "Now I have all information to decide how to preprocess the data. Using the token built in the last section I tokenized the words, and padded the texts by setting a maxium length of 100 words for review texts and 10 words for summaries, since ~90% of the examples have fewer words. The batch size was set to be 64."
      ]
    },
    {
      "cell_type": "code",
      "execution_count": 34,
      "metadata": {
        "id": "UIMfUG25MLzX"
      },
      "outputs": [],
      "source": [
        "VOCAB_SIZE = len(new_dict) + 1"
      ]
    },
    {
      "cell_type": "code",
      "execution_count": 35,
      "metadata": {
        "id": "lAcvmV0DMLzY"
      },
      "outputs": [],
      "source": [
        "#convert text sequences into integer sequences\n",
        "x_tr_seq = tokenizer_model.texts_to_sequences(x_tr)\n",
        "y_tr_seq = tokenizer_model.texts_to_sequences(y_tr)\n",
        "x_val_seq = tokenizer_model.texts_to_sequences(x_val)\n",
        "y_val_seq = tokenizer_model.texts_to_sequences(y_val)\n"
      ]
    },
    {
      "cell_type": "code",
      "execution_count": 36,
      "metadata": {
        "id": "9arIUozNMLzZ"
      },
      "outputs": [],
      "source": [
        "max_len_text = 100\n",
        "max_len_summary = 10\n",
        "\n",
        "#padding zero up to maximum length\n",
        "x_tr_padded = pad_sequences(x_tr_seq,  maxlen=max_len_text, padding='post', truncating='post')\n",
        "x_val_padded = pad_sequences(x_val_seq, maxlen=max_len_text, padding='post', truncating='post')\n",
        "y_tr_padded = pad_sequences(y_tr_seq,  maxlen=max_len_summary, padding='post', truncating='post')\n",
        "y_val_padded = pad_sequences(y_val_seq, maxlen=max_len_summary, padding='post', truncating='post')"
      ]
    },
    {
      "cell_type": "code",
      "execution_count": 37,
      "metadata": {
        "id": "rZ4RPBk4MLzb"
      },
      "outputs": [],
      "source": [
        "BATCH_SIZE = 64\n",
        "dataset_train = tf.data.Dataset.from_tensor_slices((x_tr_padded, y_tr_padded)).batch(BATCH_SIZE)\n",
        "dataset_val = tf.data.Dataset.from_tensor_slices((x_val_padded,y_val_padded)).batch(BATCH_SIZE)"
      ]
    },
    {
      "cell_type": "markdown",
      "metadata": {
        "id": "UZPnlam2ZmeX"
      },
      "source": [
        "## Model\n",
        "Here I used subclassing API to write the model. This way enables changing hyperparameters such as number of heads, number of layers and dropout rate globally. "
      ]
    },
    {
      "cell_type": "code",
      "execution_count": 38,
      "metadata": {
        "id": "_JCppC-PVHmY"
      },
      "outputs": [],
      "source": [
        "def load_pretrained_embeddings(filename, embedding_dim=50, vocab_size=100000):\n",
        "    \n",
        "    if(filename=='glove.6B/glove.6B.50d.txt'):\n",
        "        embedding_dim = 50\n",
        "        vocab_size = VOCAB_SIZE\n",
        "        embedding_matrix = np.zeros((vocab_size, embedding_dim))\n",
        "\n",
        "        for word, i in tokenizer_model.word_index.items():\n",
        "            embedding_vector = embeddings_index1.get(word)\n",
        "            if embedding_vector is not None:\n",
        "                embedding_matrix[i] = embedding_vector\n",
        "        \n",
        "        embedding_layer = Embedding(input_dim=vocab_size, output_dim=embedding_dim,\n",
        "                            embeddings_initializer=tf.keras.initializers.Constant(embedding_matrix),\n",
        "                            trainable=False)\n",
        "    \n",
        "    return embedding_layer"
      ]
    },
    {
      "cell_type": "code",
      "execution_count": 39,
      "metadata": {
        "id": "U_R-nbwgSifL"
      },
      "outputs": [],
      "source": [
        "def get_angles(pos, i, d_model):\n",
        "  angle_rates = 1 / np.power(10000, (2 * (i//2)) / np.float32(d_model))\n",
        "  return pos * angle_rates"
      ]
    },
    {
      "cell_type": "code",
      "execution_count": 40,
      "metadata": {
        "id": "_rl0nd4lSkCZ"
      },
      "outputs": [],
      "source": [
        "def positional_encoding(position, d_model):\n",
        "  angle_rads = get_angles(np.arange(position)[:, np.newaxis],\n",
        "                          np.arange(d_model)[np.newaxis, :],\n",
        "                          d_model)\n",
        "\n",
        "  # apply sin to even indices in the array; 2i\n",
        "  angle_rads[:, 0::2] = np.sin(angle_rads[:, 0::2])\n",
        "\n",
        "  # apply cos to odd indices in the array; 2i+1\n",
        "  angle_rads[:, 1::2] = np.cos(angle_rads[:, 1::2])\n",
        "\n",
        "  pos_encoding = angle_rads[np.newaxis, ...]\n",
        "\n",
        "  return tf.cast(pos_encoding, dtype=tf.float32)"
      ]
    },
    {
      "cell_type": "code",
      "execution_count": 41,
      "metadata": {
        "id": "ymvWLq_SSnZA"
      },
      "outputs": [],
      "source": [
        "def create_padding_mask(seq):\n",
        "  seq = tf.cast(tf.math.equal(seq, 0), tf.float32)\n",
        "\n",
        "  # add extra dimensions to add the padding\n",
        "  # to the attention logits.\n",
        "  return seq[:, tf.newaxis, tf.newaxis, :]  # (batch_size, 1, 1, seq_len)"
      ]
    },
    {
      "cell_type": "code",
      "execution_count": 42,
      "metadata": {
        "id": "Phtr58hrSnf5"
      },
      "outputs": [],
      "source": [
        "def create_look_ahead_mask(size):\n",
        "  mask = 1 - tf.linalg.band_part(tf.ones((size, size)), -1, 0)\n",
        "  return mask  # (seq_len, seq_len)"
      ]
    },
    {
      "cell_type": "code",
      "execution_count": 43,
      "metadata": {
        "id": "wItY-D5_Snn0"
      },
      "outputs": [],
      "source": [
        "def scaled_dot_product_attention(q, k, v, mask):\n",
        "  \"\"\"Calculate the attention weights.\n",
        "  q, k, v must have matching leading dimensions.\n",
        "  k, v must have matching penultimate dimension, i.e.: seq_len_k = seq_len_v.\n",
        "  The mask has different shapes depending on its type(padding or look ahead)\n",
        "  but it must be broadcastable for addition.\n",
        "\n",
        "  Args:\n",
        "    q: query shape == (..., seq_len_q, depth)\n",
        "    k: key shape == (..., seq_len_k, depth)\n",
        "    v: value shape == (..., seq_len_v, depth_v)\n",
        "    mask: Float tensor with shape broadcastable\n",
        "          to (..., seq_len_q, seq_len_k). Defaults to None.\n",
        "\n",
        "  Returns:\n",
        "    output, attention_weights\n",
        "  \"\"\"\n",
        "\n",
        "  matmul_qk = tf.matmul(q, k, transpose_b=True)  # (..., seq_len_q, seq_len_k)\n",
        "\n",
        "  # scale matmul_qk\n",
        "  dk = tf.cast(tf.shape(k)[-1], tf.float32)\n",
        "  scaled_attention_logits = matmul_qk / tf.math.sqrt(dk)\n",
        "\n",
        "  # add the mask to the scaled tensor.\n",
        "  if mask is not None:\n",
        "    scaled_attention_logits += (mask * -1e9)\n",
        "\n",
        "  # softmax is normalized on the last axis (seq_len_k) so that the scores\n",
        "  # add up to 1.\n",
        "  attention_weights = tf.nn.softmax(scaled_attention_logits, axis=-1)  # (..., seq_len_q, seq_len_k)\n",
        "\n",
        "  output = tf.matmul(attention_weights, v)  # (..., seq_len_q, depth_v)\n",
        "\n",
        "  return output, attention_weights"
      ]
    },
    {
      "cell_type": "code",
      "execution_count": 44,
      "metadata": {
        "id": "HOQtUqeqSnux"
      },
      "outputs": [],
      "source": [
        "class MultiHeadAttention(tf.keras.layers.Layer):\n",
        "  def __init__(self, d_model, num_heads):\n",
        "    super(MultiHeadAttention, self).__init__()\n",
        "    self.num_heads = num_heads\n",
        "    self.d_model = d_model\n",
        "\n",
        "    assert d_model % self.num_heads == 0\n",
        "\n",
        "    self.depth = d_model // self.num_heads\n",
        "\n",
        "    self.wq = tf.keras.layers.Dense(d_model)\n",
        "    self.wk = tf.keras.layers.Dense(d_model)\n",
        "    self.wv = tf.keras.layers.Dense(d_model)\n",
        "\n",
        "    self.dense = tf.keras.layers.Dense(d_model)\n",
        "\n",
        "  def split_heads(self, x, batch_size):\n",
        "    \"\"\"Split the last dimension into (num_heads, depth).\n",
        "    Transpose the result such that the shape is (batch_size, num_heads, seq_len, depth)\n",
        "    \"\"\"\n",
        "    x = tf.reshape(x, (batch_size, -1, self.num_heads, self.depth))\n",
        "    return tf.transpose(x, perm=[0, 2, 1, 3])\n",
        "\n",
        "  def call(self, v, k, q, mask):\n",
        "    batch_size = tf.shape(q)[0]\n",
        "\n",
        "    q = self.wq(q)  # (batch_size, seq_len, d_model)\n",
        "    k = self.wk(k)  # (batch_size, seq_len, d_model)\n",
        "    v = self.wv(v)  # (batch_size, seq_len, d_model)\n",
        "\n",
        "    q = self.split_heads(q, batch_size)  # (batch_size, num_heads, seq_len_q, depth)\n",
        "    k = self.split_heads(k, batch_size)  # (batch_size, num_heads, seq_len_k, depth)\n",
        "    v = self.split_heads(v, batch_size)  # (batch_size, num_heads, seq_len_v, depth)\n",
        "\n",
        "    # scaled_attention.shape == (batch_size, num_heads, seq_len_q, depth)\n",
        "    # attention_weights.shape == (batch_size, num_heads, seq_len_q, seq_len_k)\n",
        "    scaled_attention, attention_weights = scaled_dot_product_attention(\n",
        "        q, k, v, mask)\n",
        "\n",
        "    scaled_attention = tf.transpose(scaled_attention, perm=[0, 2, 1, 3])  # (batch_size, seq_len_q, num_heads, depth)\n",
        "\n",
        "    concat_attention = tf.reshape(scaled_attention,\n",
        "                                  (batch_size, -1, self.d_model))  # (batch_size, seq_len_q, d_model)\n",
        "\n",
        "    output = self.dense(concat_attention)  # (batch_size, seq_len_q, d_model)\n",
        "\n",
        "    return output, attention_weights"
      ]
    },
    {
      "cell_type": "code",
      "execution_count": 45,
      "metadata": {
        "id": "mLVjKegjSn5f"
      },
      "outputs": [],
      "source": [
        "def point_wise_feed_forward_network(d_model, dff):\n",
        "  return tf.keras.Sequential([\n",
        "      tf.keras.layers.Dense(dff, activation='relu'),  # (batch_size, seq_len, dff)\n",
        "      tf.keras.layers.Dense(d_model)  # (batch_size, seq_len, d_model)\n",
        "  ])"
      ]
    },
    {
      "cell_type": "code",
      "execution_count": 46,
      "metadata": {
        "id": "-qsGNG64Sn_5"
      },
      "outputs": [],
      "source": [
        "class EncoderLayer(tf.keras.layers.Layer):\n",
        "  def __init__(self, d_model, num_heads, dff, rate=0.1):\n",
        "    super(EncoderLayer, self).__init__()\n",
        "\n",
        "    self.mha = MultiHeadAttention(d_model, num_heads)\n",
        "    self.ffn = point_wise_feed_forward_network(d_model, dff)\n",
        "\n",
        "    self.layernorm1 = tf.keras.layers.LayerNormalization(epsilon=1e-6)\n",
        "    self.layernorm2 = tf.keras.layers.LayerNormalization(epsilon=1e-6)\n",
        "\n",
        "    self.dropout1 = tf.keras.layers.Dropout(rate)\n",
        "    self.dropout2 = tf.keras.layers.Dropout(rate)\n",
        "\n",
        "  def call(self, x, training, mask):\n",
        "\n",
        "    attn_output, _ = self.mha(x, x, x, mask)  # (batch_size, input_seq_len, d_model)\n",
        "    attn_output = self.dropout1(attn_output, training=training)\n",
        "    out1 = self.layernorm1(x + attn_output)  # (batch_size, input_seq_len, d_model)\n",
        "\n",
        "    ffn_output = self.ffn(out1)  # (batch_size, input_seq_len, d_model)\n",
        "    ffn_output = self.dropout2(ffn_output, training=training)\n",
        "    out2 = self.layernorm2(out1 + ffn_output)  # (batch_size, input_seq_len, d_model)\n",
        "\n",
        "    return out2"
      ]
    },
    {
      "cell_type": "code",
      "execution_count": 47,
      "metadata": {
        "id": "df0GRMK7TOsC"
      },
      "outputs": [],
      "source": [
        "class DecoderLayer(tf.keras.layers.Layer):\n",
        "  def __init__(self, d_model, num_heads, dff, rate=0.1):\n",
        "    super(DecoderLayer, self).__init__()\n",
        "\n",
        "    self.mha1 = MultiHeadAttention(d_model, num_heads)\n",
        "    self.mha2 = MultiHeadAttention(d_model, num_heads)\n",
        "\n",
        "    self.ffn = point_wise_feed_forward_network(d_model, dff)\n",
        "\n",
        "    self.layernorm1 = tf.keras.layers.LayerNormalization(epsilon=1e-6)\n",
        "    self.layernorm2 = tf.keras.layers.LayerNormalization(epsilon=1e-6)\n",
        "    self.layernorm3 = tf.keras.layers.LayerNormalization(epsilon=1e-6)\n",
        "\n",
        "    self.dropout1 = tf.keras.layers.Dropout(rate)\n",
        "    self.dropout2 = tf.keras.layers.Dropout(rate)\n",
        "    self.dropout3 = tf.keras.layers.Dropout(rate)\n",
        "\n",
        "  def call(self, x, enc_output, training,\n",
        "           look_ahead_mask, padding_mask):\n",
        "    # enc_output.shape == (batch_size, input_seq_len, d_model)\n",
        "\n",
        "    attn1, attn_weights_block1 = self.mha1(x, x, x, look_ahead_mask)  # (batch_size, target_seq_len, d_model)\n",
        "    attn1 = self.dropout1(attn1, training=training)\n",
        "    out1 = self.layernorm1(attn1 + x)\n",
        "\n",
        "    attn2, attn_weights_block2 = self.mha2(\n",
        "        enc_output, enc_output, out1, padding_mask)  # (batch_size, target_seq_len, d_model)\n",
        "    attn2 = self.dropout2(attn2, training=training)\n",
        "    out2 = self.layernorm2(attn2 + out1)  # (batch_size, target_seq_len, d_model)\n",
        "\n",
        "    ffn_output = self.ffn(out2)  # (batch_size, target_seq_len, d_model)\n",
        "    ffn_output = self.dropout3(ffn_output, training=training)\n",
        "    out3 = self.layernorm3(ffn_output + out2)  # (batch_size, target_seq_len, d_model)\n",
        "\n",
        "    return out3, attn_weights_block1, attn_weights_block2"
      ]
    },
    {
      "cell_type": "code",
      "execution_count": 48,
      "metadata": {
        "id": "-OILurTDTOyN"
      },
      "outputs": [],
      "source": [
        "class Encoder(tf.keras.layers.Layer):\n",
        "  def __init__(self, num_layers, d_model, num_heads, dff, input_vocab_size,\n",
        "               maximum_position_encoding, rate=0.1, embedding_filename=None):\n",
        "    super(Encoder, self).__init__()\n",
        "\n",
        "    self.d_model = d_model\n",
        "    self.num_layers = num_layers\n",
        "    if(embedding_filename):\n",
        "      self.embedding = load_pretrained_embeddings(filename=embedding_filename)\n",
        "    else:\n",
        "      self.embedding = tf.keras.layers.Embedding(input_vocab_size, d_model)\n",
        "    self.pos_encoding = positional_encoding(maximum_position_encoding,\n",
        "                                            self.d_model)\n",
        "\n",
        "    self.enc_layers = [EncoderLayer(d_model, num_heads, dff, rate)\n",
        "                       for _ in range(num_layers)]\n",
        "\n",
        "    self.dropout = tf.keras.layers.Dropout(rate)\n",
        "\n",
        "  def call(self, x, training, mask):\n",
        "\n",
        "    seq_len = tf.shape(x)[1]\n",
        "\n",
        "    # adding embedding and position encoding.\n",
        "    x = self.embedding(x)  # (batch_size, input_seq_len, d_model)\n",
        "    x *= tf.math.sqrt(tf.cast(self.d_model, tf.float32))\n",
        "    x += self.pos_encoding[:, :seq_len, :]\n",
        "\n",
        "    x = self.dropout(x, training=training)\n",
        "\n",
        "    for i in range(self.num_layers):\n",
        "      x = self.enc_layers[i](x, training, mask)\n",
        "\n",
        "    return x  # (batch_size, input_seq_len, d_model)"
      ]
    },
    {
      "cell_type": "code",
      "execution_count": 49,
      "metadata": {
        "id": "rp2Y1ZOKTO8i"
      },
      "outputs": [],
      "source": [
        "class Decoder(tf.keras.layers.Layer):\n",
        "  def __init__(self, num_layers, d_model, num_heads, dff, target_vocab_size,\n",
        "               maximum_position_encoding, rate=0.1, embedding_filename=None):\n",
        "    super(Decoder, self).__init__()\n",
        "\n",
        "    self.d_model = d_model\n",
        "    self.num_layers = num_layers\n",
        "    if(embedding_filename):\n",
        "      self.embedding = load_pretrained_embeddings(filename=embedding_filename)\n",
        "    else:\n",
        "      self.embedding = tf.keras.layers.Embedding(target_vocab_size, d_model)\n",
        "    self.pos_encoding = positional_encoding(maximum_position_encoding, d_model)\n",
        "\n",
        "    self.dec_layers = [DecoderLayer(d_model, num_heads, dff, rate)\n",
        "                       for _ in range(num_layers)]\n",
        "    self.dropout = tf.keras.layers.Dropout(rate)\n",
        "\n",
        "  def call(self, x, enc_output, training,\n",
        "           look_ahead_mask, padding_mask):\n",
        "\n",
        "    seq_len = tf.shape(x)[1]\n",
        "    attention_weights = {}\n",
        "\n",
        "    x = self.embedding(x)  # (batch_size, target_seq_len, d_model)\n",
        "    x *= tf.math.sqrt(tf.cast(self.d_model, tf.float32))\n",
        "    x += self.pos_encoding[:, :seq_len, :]\n",
        "\n",
        "    x = self.dropout(x, training=training)\n",
        "\n",
        "    for i in range(self.num_layers):\n",
        "      x, block1, block2 = self.dec_layers[i](x, enc_output, training,\n",
        "                                             look_ahead_mask, padding_mask)\n",
        "\n",
        "      attention_weights[f'decoder_layer{i+1}_block1'] = block1\n",
        "      attention_weights[f'decoder_layer{i+1}_block2'] = block2\n",
        "\n",
        "    # x.shape == (batch_size, target_seq_len, d_model)\n",
        "    return x, attention_weights"
      ]
    },
    {
      "cell_type": "code",
      "execution_count": 50,
      "metadata": {
        "id": "7q80zbnITPC1"
      },
      "outputs": [],
      "source": [
        "class Transformer(tf.keras.Model):\n",
        "  def __init__(self, num_layers, d_model, num_heads, dff, input_vocab_size,\n",
        "               target_vocab_size, pe_input, pe_target, rate=0.1, embedding_filename=None):\n",
        "    super().__init__()\n",
        "    self.encoder = Encoder(num_layers, d_model, num_heads, dff,\n",
        "                             input_vocab_size, pe_input, rate,\n",
        "                           embedding_filename=embedding_filename)\n",
        "\n",
        "    self.decoder = Decoder(num_layers, d_model, num_heads, dff,\n",
        "                           target_vocab_size, pe_target, rate,\n",
        "                           embedding_filename=embedding_filename)\n",
        "\n",
        "    self.final_layer = tf.keras.layers.Dense(target_vocab_size)\n",
        "\n",
        "  def call(self, inputs, training):\n",
        "    # Keras models prefer if you pass all your inputs in the first argument\n",
        "    inp, tar = inputs\n",
        "\n",
        "    enc_padding_mask, look_ahead_mask, dec_padding_mask = self.create_masks(inp, tar)\n",
        "\n",
        "    enc_output = self.encoder(inp, training, enc_padding_mask)  # (batch_size, inp_seq_len, d_model)\n",
        "\n",
        "    # dec_output.shape == (batch_size, tar_seq_len, d_model)\n",
        "    dec_output, attention_weights = self.decoder(\n",
        "        tar, enc_output, training, look_ahead_mask, dec_padding_mask)\n",
        "\n",
        "    final_output = self.final_layer(dec_output)  # (batch_size, tar_seq_len, target_vocab_size)\n",
        "\n",
        "    return final_output, attention_weights\n",
        "\n",
        "  def create_masks(self, inp, tar):\n",
        "    # Encoder padding mask\n",
        "    enc_padding_mask = create_padding_mask(inp)\n",
        "\n",
        "    # Used in the 2nd attention block in the decoder.\n",
        "    # This padding mask is used to mask the encoder outputs.\n",
        "    dec_padding_mask = create_padding_mask(inp)\n",
        "\n",
        "    # Used in the 1st attention block in the decoder.\n",
        "    # It is used to pad and mask future tokens in the input received by\n",
        "    # the decoder.\n",
        "    look_ahead_mask = create_look_ahead_mask(tf.shape(tar)[1])\n",
        "    dec_target_padding_mask = create_padding_mask(tar)\n",
        "    look_ahead_mask = tf.maximum(dec_target_padding_mask, look_ahead_mask)\n",
        "\n",
        "    return enc_padding_mask, look_ahead_mask, dec_padding_mask"
      ]
    },
    {
      "cell_type": "markdown",
      "metadata": {
        "id": "pExv7dQsZmed"
      },
      "source": [
        "### Construct the model\n",
        "The hyperparameters of the model are shown below. Emprically I found a deep model (large num_layers) is very helpful for generating meaningful summerizations. "
      ]
    },
    {
      "cell_type": "code",
      "execution_count": 51,
      "metadata": {
        "id": "UBchRBqTMLzl"
      },
      "outputs": [],
      "source": [
        "transformer_model = Transformer(num_layers=5,\n",
        "                                d_model=50,\n",
        "                                num_heads=5,\n",
        "                                dff=512,\n",
        "                                input_vocab_size=VOCAB_SIZE,\n",
        "                                target_vocab_size=VOCAB_SIZE,\n",
        "                                pe_input=max_len_text,\n",
        "                                pe_target=max_len_text,\n",
        "                                rate=0.15,\n",
        "                                embedding_filename='glove.6B/glove.6B.50d.txt')"
      ]
    },
    {
      "cell_type": "markdown",
      "metadata": {
        "id": "oQ7Z1b5dMLzl"
      },
      "source": [
        "### Train the model"
      ]
    },
    {
      "cell_type": "code",
      "execution_count": 52,
      "metadata": {
        "id": "wadRAJxrMLzl"
      },
      "outputs": [],
      "source": [
        "lr_schedule = tf.keras.optimizers.schedules.ExponentialDecay(initial_learning_rate=1e-4, decay_steps=4000, decay_rate=0.95)\n",
        "optimizer = Adam(lr_schedule , beta_1=0.9, beta_2=0.98, epsilon=1e-9) \n",
        "loss_object = SparseCategoricalCrossentropy(from_logits=True, reduction='none')\n",
        "train_loss = tf.keras.metrics.Mean(name='train_loss')\n",
        "val_loss = tf.keras.metrics.Mean(name='val_loss')\n",
        "#train_accuracy = tf.keras.metrics.Mean(name='train_accuracy')"
      ]
    },
    {
      "cell_type": "code",
      "execution_count": 53,
      "metadata": {
        "id": "XJ82LDfqMub5"
      },
      "outputs": [],
      "source": [
        "checkpoint_path = \"./checkpoints/train\"\n",
        "ckpt = tf.train.Checkpoint(transformer=transformer_model, optimizer=optimizer)\n",
        "ckpt_manager = tf.train.CheckpointManager(ckpt, checkpoint_path, max_to_keep=5)\n"
      ]
    },
    {
      "cell_type": "code",
      "execution_count": 54,
      "metadata": {
        "id": "QTHK8VXoMLzl"
      },
      "outputs": [],
      "source": [
        "def loss_function(real, pred):\n",
        "    \n",
        "    mask = tf.math.logical_not(tf.math.equal(real, 0))\n",
        "    loss_ = loss_object(real, pred)\n",
        "\n",
        "    mask = tf.cast(mask, dtype=loss_.dtype)\n",
        "    loss_ *= mask\n",
        "\n",
        "    return tf.reduce_sum(loss_)/tf.reduce_sum(mask)\n",
        "\n",
        "\n",
        "def accuracy_function(real, pred):\n",
        "    \n",
        "    accuracies = tf.equal(real, tf.argmax(pred, axis=2))\n",
        "\n",
        "    mask = tf.math.logical_not(tf.math.equal(real, 0))\n",
        "    accuracies = tf.math.logical_and(mask, accuracies)\n",
        "\n",
        "    accuracies = tf.cast(accuracies, dtype=tf.float32)\n",
        "    mask = tf.cast(mask, dtype=tf.float32)\n",
        "    return tf.reduce_sum(accuracies)/tf.reduce_sum(mask)"
      ]
    },
    {
      "cell_type": "code",
      "execution_count": 55,
      "metadata": {
        "id": "fN0EhfEoJTPV"
      },
      "outputs": [],
      "source": [
        "def validate():\n",
        "    #print('validation started ...')\n",
        "    val_loss.reset_states()\n",
        "    for (batch, (inp, tar)) in enumerate(dataset_val):    \n",
        "        tar_inp = tar[:, :-1] # <startseq> hi im moein\n",
        "        tar_real = tar[:, 1:] # hi im moein <endseq>\n",
        "        predictions, _ = transformer_model(inputs=[inp, tar_inp], training=False)\n",
        "        loss = loss_function(tar_real, predictions)\n",
        "        val_loss(loss)\n",
        "    #print('\\n* Validation loss: {} '.format(val_loss.result()) )\n",
        "    return val_loss.result()"
      ]
    },
    {
      "cell_type": "code",
      "execution_count": 56,
      "metadata": {
        "id": "umKVE2-1MLzm"
      },
      "outputs": [],
      "source": [
        "@tf.function # Compiles a function into a callable TensorFlow graph\n",
        "def train_step(inp, tar):\n",
        "    tar_inp = tar[:, :-1] \n",
        "    tar_real = tar[:, 1:] \n",
        "\n",
        "    #enc_padding_mask, combined_mask, dec_padding_mask = create_masks(inp, tar_inp)\n",
        "    \n",
        "    with tf.GradientTape() as tape:\n",
        "        predictions, _ = transformer_model(inputs=[inp, tar_inp], training=True)\n",
        "        loss = loss_function(tar_real, predictions)\n",
        "\n",
        "    gradients = tape.gradient(loss, transformer_model.trainable_variables)    \n",
        "    optimizer.apply_gradients(zip(gradients, transformer_model.trainable_variables))\n",
        "    \n",
        "    train_loss(loss)"
      ]
    },
    {
      "cell_type": "code",
      "execution_count": 57,
      "metadata": {
        "colab": {
          "base_uri": "https://localhost:8080/"
        },
        "id": "aZr2BQVpMLzm",
        "outputId": "f39f8849-41e6-4242-818f-cfcb5858a8ac"
      },
      "outputs": [
        {
          "output_type": "stream",
          "name": "stdout",
          "text": [
            "Epoch 1 Batch 0 Loss 10.1490 Time 10.37 secs\n",
            "Epoch 1 Batch 2000 Loss 6.4812 Time 80.41 secs\n",
            "Epoch 1 Batch 4000 Loss 5.9650 Time 150.40 secs\n",
            "Epoch 1 Batch 6000 Loss 5.7492 Time 220.40 secs\n",
            "Epoch 1 Batch 7954 Train Loss 5.6151 Valication Loss 5.1158 Time 496.09 secs\n",
            "Epoch 2 Batch 0 Loss 5.3514 Time 0.16 secs\n",
            "Epoch 2 Batch 2000 Loss 5.1323 Time 70.14 secs\n",
            "Epoch 2 Batch 4000 Loss 5.1004 Time 140.11 secs\n",
            "Epoch 2 Batch 6000 Loss 5.0719 Time 210.10 secs\n",
            "Epoch 2 Batch 7954 Train Loss 5.0465 Valication Loss 4.9018 Time 431.71 secs\n",
            "Epoch 3 Batch 0 Loss 5.0905 Time 0.10 secs\n",
            "Epoch 3 Batch 2000 Loss 4.9430 Time 70.03 secs\n",
            "Epoch 3 Batch 4000 Loss 4.9244 Time 139.95 secs\n",
            "Epoch 3 Batch 6000 Loss 4.9060 Time 209.88 secs\n",
            "Epoch 3 Batch 7954 Train Loss 4.8891 Valication Loss 4.7704 Time 429.85 secs\n",
            "Epoch 4 Batch 0 Loss 4.9592 Time 0.10 secs\n",
            "Epoch 4 Batch 2000 Loss 4.8254 Time 70.10 secs\n",
            "Epoch 4 Batch 4000 Loss 4.8116 Time 140.12 secs\n",
            "Epoch 4 Batch 6000 Loss 4.7974 Time 210.13 secs\n",
            "Epoch 4 Batch 7954 Train Loss 4.7845 Valication Loss 4.6810 Time 429.70 secs\n",
            "Epoch 5 Batch 0 Loss 4.8725 Time 0.10 secs\n",
            "Epoch 5 Batch 2000 Loss 4.7406 Time 70.11 secs\n",
            "Epoch 5 Batch 4000 Loss 4.7292 Time 140.13 secs\n",
            "Epoch 5 Batch 6000 Loss 4.7174 Time 210.14 secs\n",
            "Epoch 5 Batch 7954 Train Loss 4.7061 Valication Loss 4.6076 Time 429.06 secs\n",
            "Epoch 6 Batch 0 Loss 4.7930 Time 0.10 secs\n",
            "Epoch 6 Batch 2000 Loss 4.6710 Time 70.03 secs\n",
            "Epoch 6 Batch 4000 Loss 4.6627 Time 140.00 secs\n",
            "Epoch 6 Batch 6000 Loss 4.6526 Time 209.98 secs\n",
            "Epoch 6 Batch 7954 Train Loss 4.6430 Valication Loss 4.5538 Time 428.08 secs\n",
            "Epoch 7 Batch 0 Loss 4.7283 Time 0.10 secs\n",
            "Epoch 7 Batch 2000 Loss 4.6157 Time 70.10 secs\n",
            "Epoch 7 Batch 4000 Loss 4.6090 Time 140.11 secs\n",
            "Epoch 7 Batch 6000 Loss 4.6008 Time 210.11 secs\n",
            "Epoch 7 Batch 7954 Train Loss 4.5924 Valication Loss 4.5144 Time 428.76 secs\n",
            "Epoch 8 Batch 0 Loss 4.6589 Time 0.11 secs\n",
            "Epoch 8 Batch 2000 Loss 4.5731 Time 70.08 secs\n",
            "Epoch 8 Batch 4000 Loss 4.5677 Time 140.05 secs\n",
            "Epoch 8 Batch 6000 Loss 4.5610 Time 210.02 secs\n",
            "Epoch 8 Batch 7954 Train Loss 4.5540 Valication Loss 4.4828 Time 428.35 secs\n",
            "Epoch 9 Batch 0 Loss 4.6190 Time 0.10 secs\n",
            "Epoch 9 Batch 2000 Loss 4.5390 Time 70.08 secs\n",
            "Epoch 9 Batch 4000 Loss 4.5355 Time 140.02 secs\n",
            "Epoch 9 Batch 6000 Loss 4.5296 Time 209.95 secs\n",
            "Epoch 9 Batch 7954 Train Loss 4.5230 Valication Loss 4.4581 Time 427.84 secs\n",
            "Epoch 10 Batch 0 Loss 4.6083 Time 0.10 secs\n",
            "Epoch 10 Batch 2000 Loss 4.5111 Time 70.14 secs\n",
            "Epoch 10 Batch 4000 Loss 4.5080 Time 140.05 secs\n",
            "Epoch 10 Batch 6000 Loss 4.5028 Time 209.97 secs\n",
            "Epoch 10 Batch 7954 Train Loss 4.4973 Valication Loss 4.4400 Time 428.49 secs\n",
            "Epoch 11 Batch 0 Loss 4.5634 Time 0.10 secs\n",
            "Epoch 11 Batch 2000 Loss 4.4889 Time 70.13 secs\n",
            "Epoch 11 Batch 4000 Loss 4.4868 Time 140.14 secs\n",
            "Epoch 11 Batch 6000 Loss 4.4819 Time 210.15 secs\n",
            "Epoch 11 Batch 7954 Train Loss 4.4766 Valication Loss 4.4219 Time 429.13 secs\n",
            "Epoch 12 Batch 0 Loss 4.5054 Time 0.10 secs\n",
            "Epoch 12 Batch 2000 Loss 4.4709 Time 70.05 secs\n",
            "Epoch 12 Batch 4000 Loss 4.4696 Time 140.02 secs\n",
            "Epoch 12 Batch 6000 Loss 4.4648 Time 210.11 secs\n",
            "Epoch 12 Batch 7954 Train Loss 4.4597 Valication Loss 4.4061 Time 428.61 secs\n",
            "Epoch 13 Batch 0 Loss 4.5470 Time 0.10 secs\n",
            "Epoch 13 Batch 2000 Loss 4.4558 Time 70.11 secs\n",
            "Epoch 13 Batch 4000 Loss 4.4548 Time 140.11 secs\n",
            "Epoch 13 Batch 6000 Loss 4.4499 Time 210.10 secs\n",
            "Epoch 13 Batch 7954 Train Loss 4.4447 Valication Loss 4.3958 Time 428.99 secs\n",
            "Epoch 14 Batch 0 Loss 4.4793 Time 0.10 secs\n",
            "Epoch 14 Batch 2000 Loss 4.4448 Time 70.10 secs\n",
            "Epoch 14 Batch 4000 Loss 4.4427 Time 140.10 secs\n",
            "Epoch 14 Batch 6000 Loss 4.4381 Time 210.13 secs\n",
            "Epoch 14 Batch 7954 Train Loss 4.4333 Valication Loss 4.3870 Time 429.27 secs\n",
            "Epoch 15 Batch 0 Loss 4.5049 Time 0.10 secs\n",
            "Epoch 15 Batch 2000 Loss 4.4330 Time 70.12 secs\n",
            "Epoch 15 Batch 4000 Loss 4.4317 Time 140.13 secs\n",
            "Epoch 15 Batch 6000 Loss 4.4279 Time 210.14 secs\n",
            "Epoch 15 Batch 7954 Train Loss 4.4234 Valication Loss 4.3775 Time 428.89 secs\n",
            "Epoch 16 Batch 0 Loss 4.4623 Time 0.10 secs\n",
            "Epoch 16 Batch 2000 Loss 4.4240 Time 70.09 secs\n",
            "Epoch 16 Batch 4000 Loss 4.4229 Time 140.08 secs\n",
            "Epoch 16 Batch 6000 Loss 4.4188 Time 210.08 secs\n",
            "Epoch 16 Batch 7954 Train Loss 4.4146 Valication Loss 4.3694 Time 429.18 secs\n",
            "Epoch 17 Batch 0 Loss 4.5231 Time 0.10 secs\n",
            "Epoch 17 Batch 2000 Loss 4.4171 Time 70.10 secs\n",
            "Epoch 17 Batch 4000 Loss 4.4159 Time 140.09 secs\n",
            "Epoch 17 Batch 6000 Loss 4.4117 Time 210.12 secs\n",
            "Epoch 17 Batch 7954 Train Loss 4.4070 Valication Loss 4.3630 Time 428.64 secs\n",
            "Epoch 18 Batch 0 Loss 4.4648 Time 0.10 secs\n",
            "Epoch 18 Batch 2000 Loss 4.4095 Time 70.10 secs\n",
            "Epoch 18 Batch 4000 Loss 4.4089 Time 140.10 secs\n",
            "Epoch 18 Batch 6000 Loss 4.4052 Time 210.11 secs\n",
            "Epoch 18 Batch 7954 Train Loss 4.4010 Valication Loss 4.3563 Time 428.72 secs\n",
            "Epoch 19 Batch 0 Loss 4.4448 Time 0.10 secs\n",
            "Epoch 19 Batch 2000 Loss 4.4025 Time 70.08 secs\n",
            "Epoch 19 Batch 4000 Loss 4.4019 Time 140.09 secs\n",
            "Epoch 19 Batch 6000 Loss 4.3983 Time 210.10 secs\n",
            "Epoch 19 Batch 7954 Train Loss 4.3946 Valication Loss 4.3502 Time 428.77 secs\n",
            "Epoch 20 Batch 0 Loss 4.4557 Time 0.10 secs\n",
            "Epoch 20 Batch 2000 Loss 4.3985 Time 70.10 secs\n",
            "Epoch 20 Batch 4000 Loss 4.3976 Time 140.12 secs\n",
            "Epoch 20 Batch 6000 Loss 4.3941 Time 210.10 secs\n",
            "Epoch 20 Batch 7954 Train Loss 4.3904 Valication Loss 4.3459 Time 429.34 secs\n",
            "Epoch 21 Batch 0 Loss 4.4469 Time 0.10 secs\n",
            "Epoch 21 Batch 2000 Loss 4.3942 Time 70.12 secs\n",
            "Epoch 21 Batch 4000 Loss 4.3940 Time 140.14 secs\n",
            "Epoch 21 Batch 6000 Loss 4.3906 Time 210.17 secs\n",
            "Epoch 21 Batch 7954 Train Loss 4.3863 Valication Loss 4.3408 Time 428.63 secs\n",
            "Epoch 22 Batch 0 Loss 4.4160 Time 0.10 secs\n",
            "Epoch 22 Batch 2000 Loss 4.3898 Time 70.11 secs\n",
            "Epoch 22 Batch 4000 Loss 4.3907 Time 140.11 secs\n",
            "Epoch 22 Batch 6000 Loss 4.3870 Time 210.10 secs\n",
            "Epoch 22 Batch 7954 Train Loss 4.3833 Valication Loss 4.3387 Time 429.06 secs\n",
            "Epoch 23 Batch 0 Loss 4.4117 Time 0.10 secs\n",
            "Epoch 23 Batch 2000 Loss 4.3883 Time 70.09 secs\n",
            "Epoch 23 Batch 4000 Loss 4.3883 Time 140.10 secs\n",
            "Epoch 23 Batch 6000 Loss 4.3846 Time 210.10 secs\n",
            "Epoch 23 Batch 7954 Train Loss 4.3810 Valication Loss 4.3343 Time 429.32 secs\n",
            "Epoch 24 Batch 0 Loss 4.4230 Time 0.10 secs\n",
            "Epoch 24 Batch 2000 Loss 4.3844 Time 70.06 secs\n",
            "Epoch 24 Batch 4000 Loss 4.3849 Time 140.02 secs\n",
            "Epoch 24 Batch 6000 Loss 4.3819 Time 209.96 secs\n",
            "Epoch 24 Batch 7954 Train Loss 4.3782 Valication Loss 4.3310 Time 428.89 secs\n",
            "Epoch 25 Batch 0 Loss 4.4457 Time 0.10 secs\n",
            "Epoch 25 Batch 2000 Loss 4.3814 Time 70.05 secs\n",
            "Epoch 25 Batch 4000 Loss 4.3826 Time 140.04 secs\n",
            "Epoch 25 Batch 6000 Loss 4.3795 Time 210.01 secs\n",
            "Epoch 25 Batch 7954 Train Loss 4.3760 Valication Loss 4.3294 Time 428.75 secs\n",
            "Epoch 26 Batch 0 Loss 4.3957 Time 0.10 secs\n",
            "Epoch 26 Batch 2000 Loss 4.3800 Time 70.03 secs\n",
            "Epoch 26 Batch 4000 Loss 4.3812 Time 139.96 secs\n",
            "Epoch 26 Batch 6000 Loss 4.3781 Time 209.91 secs\n",
            "Epoch 26 Batch 7954 Train Loss 4.3743 Valication Loss 4.3256 Time 429.04 secs\n",
            "Epoch 27 Batch 0 Loss 4.3828 Time 0.10 secs\n",
            "Epoch 27 Batch 2000 Loss 4.3780 Time 70.10 secs\n",
            "Epoch 27 Batch 4000 Loss 4.3785 Time 140.09 secs\n",
            "Epoch 27 Batch 6000 Loss 4.3757 Time 210.09 secs\n",
            "Epoch 27 Batch 7954 Train Loss 4.3722 Valication Loss 4.3225 Time 480.79 secs\n",
            "Epoch 28 Batch 0 Loss 4.4786 Time 0.10 secs\n",
            "Epoch 28 Batch 2000 Loss 4.3767 Time 70.12 secs\n",
            "Epoch 28 Batch 4000 Loss 4.3777 Time 140.11 secs\n",
            "Epoch 28 Batch 6000 Loss 4.3749 Time 210.10 secs\n",
            "Epoch 28 Batch 7954 Train Loss 4.3716 Valication Loss 4.3193 Time 428.93 secs\n",
            "Epoch 29 Batch 0 Loss 4.4071 Time 0.10 secs\n",
            "Epoch 29 Batch 2000 Loss 4.3761 Time 70.10 secs\n",
            "Epoch 29 Batch 4000 Loss 4.3774 Time 140.08 secs\n",
            "Epoch 29 Batch 6000 Loss 4.3737 Time 210.08 secs\n",
            "Epoch 29 Batch 7954 Train Loss 4.3703 Valication Loss 4.3175 Time 429.28 secs\n",
            "Epoch 30 Batch 0 Loss 4.4395 Time 0.10 secs\n",
            "Epoch 30 Batch 2000 Loss 4.3750 Time 70.09 secs\n",
            "Epoch 30 Batch 4000 Loss 4.3763 Time 140.11 secs\n",
            "Epoch 30 Batch 6000 Loss 4.3731 Time 210.11 secs\n",
            "Epoch 30 Batch 7954 Train Loss 4.3695 Valication Loss 4.3156 Time 429.16 secs\n",
            "Epoch 31 Batch 0 Loss 4.3892 Time 0.10 secs\n",
            "Epoch 31 Batch 2000 Loss 4.3745 Time 70.09 secs\n",
            "Epoch 31 Batch 4000 Loss 4.3753 Time 140.06 secs\n",
            "Epoch 31 Batch 6000 Loss 4.3718 Time 210.05 secs\n",
            "Epoch 31 Batch 7954 Train Loss 4.3686 Valication Loss 4.3139 Time 428.97 secs\n",
            "Epoch 32 Batch 0 Loss 4.4330 Time 0.10 secs\n",
            "Epoch 32 Batch 2000 Loss 4.3740 Time 70.09 secs\n",
            "Epoch 32 Batch 4000 Loss 4.3747 Time 140.09 secs\n",
            "Epoch 32 Batch 6000 Loss 4.3717 Time 210.10 secs\n",
            "Epoch 32 Batch 7954 Train Loss 4.3681 Valication Loss 4.3121 Time 428.94 secs\n",
            "Epoch 33 Batch 0 Loss 4.3851 Time 0.10 secs\n",
            "Epoch 33 Batch 2000 Loss 4.3736 Time 70.11 secs\n",
            "Epoch 33 Batch 4000 Loss 4.3745 Time 140.11 secs\n",
            "Epoch 33 Batch 6000 Loss 4.3715 Time 210.10 secs\n",
            "Epoch 33 Batch 7954 Train Loss 4.3682 Valication Loss 4.3112 Time 428.55 secs\n",
            "Epoch 34 Batch 0 Loss 4.4125 Time 0.10 secs\n",
            "Epoch 34 Batch 2000 Loss 4.3726 Time 70.11 secs\n",
            "Epoch 34 Batch 4000 Loss 4.3740 Time 140.11 secs\n",
            "Epoch 34 Batch 6000 Loss 4.3708 Time 210.12 secs\n",
            "Epoch 34 Batch 7954 Train Loss 4.3673 Valication Loss 4.3096 Time 429.10 secs\n",
            "Epoch 35 Batch 0 Loss 4.3988 Time 0.10 secs\n",
            "Epoch 35 Batch 2000 Loss 4.3712 Time 70.02 secs\n",
            "Epoch 35 Batch 4000 Loss 4.3729 Time 139.97 secs\n",
            "Epoch 35 Batch 6000 Loss 4.3700 Time 209.89 secs\n",
            "Epoch 35 Batch 7954 Train Loss 4.3666 Valication Loss 4.3087 Time 480.53 secs\n",
            "Epoch 36 Batch 0 Loss 4.3915 Time 0.10 secs\n",
            "Epoch 36 Batch 2000 Loss 4.3722 Time 70.03 secs\n",
            "Epoch 36 Batch 4000 Loss 4.3737 Time 139.98 secs\n",
            "Epoch 36 Batch 6000 Loss 4.3707 Time 209.93 secs\n",
            "Epoch 36 Batch 7954 Train Loss 4.3672 Valication Loss 4.3068 Time 429.52 secs\n",
            "Epoch 37 Batch 0 Loss 4.4364 Time 0.10 secs\n",
            "Epoch 37 Batch 2000 Loss 4.3713 Time 70.10 secs\n",
            "Epoch 37 Batch 4000 Loss 4.3733 Time 140.08 secs\n",
            "Epoch 37 Batch 6000 Loss 4.3708 Time 210.09 secs\n",
            "Epoch 37 Batch 7954 Train Loss 4.3673 Valication Loss 4.3060 Time 428.94 secs\n",
            "Epoch 38 Batch 0 Loss 4.4052 Time 0.10 secs\n",
            "Epoch 38 Batch 2000 Loss 4.3733 Time 70.14 secs\n",
            "Epoch 38 Batch 4000 Loss 4.3739 Time 140.14 secs\n",
            "Epoch 38 Batch 6000 Loss 4.3711 Time 210.13 secs\n",
            "Epoch 38 Batch 7954 Train Loss 4.3678 Valication Loss 4.3058 Time 429.33 secs\n",
            "Epoch 39 Batch 0 Loss 4.4020 Time 0.10 secs\n",
            "Epoch 39 Batch 2000 Loss 4.3724 Time 70.09 secs\n",
            "Epoch 39 Batch 4000 Loss 4.3737 Time 140.08 secs\n",
            "Epoch 39 Batch 6000 Loss 4.3704 Time 210.08 secs\n",
            "Epoch 39 Batch 7954 Train Loss 4.3673 Valication Loss 4.3043 Time 428.73 secs\n",
            "Epoch 40 Batch 0 Loss 4.3993 Time 0.10 secs\n",
            "Epoch 40 Batch 2000 Loss 4.3720 Time 70.09 secs\n",
            "Epoch 40 Batch 4000 Loss 4.3735 Time 140.09 secs\n",
            "Epoch 40 Batch 6000 Loss 4.3704 Time 210.11 secs\n",
            "Epoch 40 Batch 7954 Train Loss 4.3668 Valication Loss 4.3039 Time 430.13 secs\n",
            "Epoch 41 Batch 0 Loss 4.4447 Time 0.10 secs\n",
            "Epoch 41 Batch 2000 Loss 4.3724 Time 70.09 secs\n",
            "Epoch 41 Batch 4000 Loss 4.3730 Time 140.08 secs\n",
            "Epoch 41 Batch 6000 Loss 4.3703 Time 210.14 secs\n",
            "Epoch 41 Batch 7954 Train Loss 4.3668 Valication Loss 4.3030 Time 429.60 secs\n",
            "Epoch 42 Batch 0 Loss 4.4336 Time 0.10 secs\n",
            "Epoch 42 Batch 2000 Loss 4.3715 Time 70.11 secs\n",
            "Epoch 42 Batch 4000 Loss 4.3733 Time 140.11 secs\n",
            "Epoch 42 Batch 6000 Loss 4.3709 Time 210.11 secs\n",
            "Epoch 42 Batch 7954 Train Loss 4.3675 Valication Loss 4.3027 Time 429.55 secs\n",
            "Epoch 43 Batch 0 Loss 4.4280 Time 0.10 secs\n",
            "Epoch 43 Batch 2000 Loss 4.3721 Time 70.10 secs\n",
            "Epoch 43 Batch 4000 Loss 4.3732 Time 140.09 secs\n",
            "Epoch 43 Batch 6000 Loss 4.3706 Time 210.07 secs\n",
            "Epoch 43 Batch 7954 Train Loss 4.3673 Valication Loss 4.3017 Time 430.40 secs\n",
            "Epoch 44 Batch 0 Loss 4.3855 Time 0.10 secs\n",
            "Epoch 44 Batch 2000 Loss 4.3731 Time 70.09 secs\n",
            "Epoch 44 Batch 4000 Loss 4.3735 Time 140.08 secs\n",
            "Epoch 44 Batch 6000 Loss 4.3709 Time 210.09 secs\n",
            "Epoch 44 Batch 7954 Train Loss 4.3672 Valication Loss 4.3013 Time 429.98 secs\n",
            "Epoch 45 Batch 0 Loss 4.3620 Time 0.10 secs\n",
            "Epoch 45 Batch 2000 Loss 4.3726 Time 70.12 secs\n",
            "Epoch 45 Batch 4000 Loss 4.3733 Time 140.13 secs\n",
            "Epoch 45 Batch 6000 Loss 4.3701 Time 210.14 secs\n",
            "Epoch 45 Batch 7954 Train Loss 4.3671 Valication Loss 4.3008 Time 430.18 secs\n",
            "Epoch 46 Batch 0 Loss 4.3825 Time 0.10 secs\n",
            "Epoch 46 Batch 2000 Loss 4.3725 Time 70.18 secs\n",
            "Epoch 46 Batch 4000 Loss 4.3737 Time 140.29 secs\n",
            "Epoch 46 Batch 6000 Loss 4.3706 Time 210.29 secs\n",
            "Epoch 46 Batch 7954 Train Loss 4.3672 Valication Loss 4.3006 Time 429.33 secs\n",
            "Epoch 47 Batch 0 Loss 4.3822 Time 0.10 secs\n",
            "Epoch 47 Batch 2000 Loss 4.3733 Time 70.10 secs\n",
            "Epoch 47 Batch 4000 Loss 4.3734 Time 140.08 secs\n",
            "Epoch 47 Batch 6000 Loss 4.3709 Time 210.09 secs\n",
            "Epoch 47 Batch 7954 Train Loss 4.3675 Valication Loss 4.3003 Time 429.21 secs\n",
            "Epoch 48 Batch 0 Loss 4.4134 Time 0.10 secs\n",
            "Epoch 48 Batch 2000 Loss 4.3727 Time 70.04 secs\n",
            "Epoch 48 Batch 4000 Loss 4.3733 Time 140.01 secs\n",
            "Epoch 48 Batch 6000 Loss 4.3708 Time 209.94 secs\n",
            "Epoch 48 Batch 7954 Train Loss 4.3673 Valication Loss 4.2998 Time 429.84 secs\n",
            "Epoch 49 Batch 0 Loss 4.3823 Time 0.10 secs\n",
            "Epoch 49 Batch 2000 Loss 4.3728 Time 70.09 secs\n",
            "Epoch 49 Batch 4000 Loss 4.3734 Time 140.07 secs\n",
            "Epoch 49 Batch 6000 Loss 4.3709 Time 210.08 secs\n",
            "Epoch 49 Batch 7954 Train Loss 4.3676 Valication Loss 4.2997 Time 429.75 secs\n",
            "Epoch 50 Batch 0 Loss 4.4429 Time 0.10 secs\n",
            "Epoch 50 Batch 2000 Loss 4.3713 Time 70.09 secs\n",
            "Epoch 50 Batch 4000 Loss 4.3726 Time 140.08 secs\n",
            "Epoch 50 Batch 6000 Loss 4.3705 Time 210.07 secs\n",
            "Epoch 50 Batch 7954 Train Loss 4.3673 Valication Loss 4.2993 Time 430.08 secs\n"
          ]
        }
      ],
      "source": [
        "EPOCHS = 50\n",
        "history = {'train_loss':[], 'val_loss':[]}\n",
        "\n",
        "for epoch in range(EPOCHS):\n",
        "    start = time.time()\n",
        "\n",
        "    train_loss.reset_states()\n",
        "    #train_accuracy.reset_states()\n",
        "\n",
        "    for (batch, (inp, tar)) in enumerate(dataset_train):\n",
        "        train_step(inp, tar)\n",
        "        if batch % 2000 == 0:\n",
        "            #validate_loss = validate().numpy()\n",
        "            print(f'Epoch {epoch + 1} Batch {batch} Loss {train_loss.result():.4f} Time {time.time() - start:.2f} secs')\n",
        "            #print(f'Epoch {epoch + 1} Batch {batch} Train Loss {train_loss.result():.4f} Valication Loss {validate_loss:.4f} Time {time.time() - start:.2f} secs')\n",
        "    trained_loss = train_loss.result().numpy()\n",
        "    validate_loss = validate().numpy()\n",
        "    history['train_loss'].append(trained_loss)\n",
        "    history['val_loss'].append(validate_loss)\n",
        "    ckpt_save_path = ckpt_manager.save()\n",
        "    print(f'Epoch {epoch + 1} Batch {batch} Train Loss {train_loss.result():.4f} Valication Loss {validate_loss:.4f} Time {time.time() - start:.2f} secs')"
      ]
    },
    {
      "cell_type": "code",
      "execution_count": 58,
      "metadata": {
        "colab": {
          "base_uri": "https://localhost:8080/",
          "height": 279
        },
        "id": "ENIOtu1ILIxK",
        "outputId": "998140fe-62a0-4b93-cf1a-de3ff62c8fb4"
      },
      "outputs": [
        {
          "output_type": "display_data",
          "data": {
            "image/png": "[encoded data removed]",
            "text/plain": [
              "<Figure size 432x288 with 1 Axes>"
            ]
          },
          "metadata": {
            "needs_background": "light"
          }
        }
      ],
      "source": [
        "plt.figure()\n",
        "plt.plot(np.arange(EPOCHS), history['train_loss'], label = 'train')\n",
        "plt.plot(np.arange(EPOCHS), history['val_loss'], label = 'evaluation')\n",
        "plt.legend()\n",
        "plt.xlabel('epochs')\n",
        "plt.ylabel('loss')\n",
        "plt.show()"
      ]
    },
    {
      "cell_type": "code",
      "execution_count": 59,
      "metadata": {
        "colab": {
          "base_uri": "https://localhost:8080/"
        },
        "id": "-apPC_qEANlO",
        "outputId": "94aa0150-40c9-4a63-8220-c4e01a389b52"
      },
      "outputs": [
        {
          "output_type": "stream",
          "name": "stdout",
          "text": [
            "Model: \"transformer\"\n",
            "_________________________________________________________________\n",
            " Layer (type)                Output Shape              Param #   \n",
            "=================================================================\n",
            " encoder (Encoder)           multiple                  1603360   \n",
            "                                                                 \n",
            " decoder (Decoder)           multiple                  1654860   \n",
            "                                                                 \n",
            " dense_80 (Dense)            multiple                  1318401   \n",
            "                                                                 \n",
            "=================================================================\n",
            "Total params: 4,576,621\n",
            "Trainable params: 1,991,521\n",
            "Non-trainable params: 2,585,100\n",
            "_________________________________________________________________\n"
          ]
        }
      ],
      "source": [
        "transformer_model.summary()"
      ]
    },
    {
      "cell_type": "markdown",
      "metadata": {
        "id": "cY4AiuQbZmei"
      },
      "source": [
        "## Generate summerization"
      ]
    },
    {
      "cell_type": "code",
      "execution_count": 60,
      "metadata": {
        "id": "QUL3Gu5VMLzm"
      },
      "outputs": [],
      "source": [
        "def validate():\n",
        "    print('validation started ...')\n",
        "    val_loss.reset_states()\n",
        "    for (batch, (inp, tar)) in enumerate(dataset_val):    \n",
        "        tar_inp = tar[:, :-1] \n",
        "        tar_real = tar[:, 1:] \n",
        "        predictions, _ = transformer_model(inputs=[inp, tar_inp], training=False)\n",
        "        loss = loss_function(tar_real, predictions)\n",
        "        val_loss(loss)\n",
        "    print('\\n* Validation loss: {} '.format(val_loss.result()) )\n",
        "    \n",
        "    return val_loss.result()"
      ]
    },
    {
      "cell_type": "code",
      "execution_count": 61,
      "metadata": {
        "id": "Io3Y6paqMLzn"
      },
      "outputs": [],
      "source": [
        "def evaluate(input_document):\n",
        "    input_document = tokenizer_model.texts_to_sequences([input_document])\n",
        "    input_document = tf.keras.preprocessing.sequence.pad_sequences(input_document, maxlen=max_len_text, \n",
        "                                                                           padding='post', truncating='post')\n",
        "    \n",
        "    encoder_input = tf.expand_dims(input_document[0], 0)\n",
        "    start_token = 'sos'\n",
        "    decoder_input = [tokenizer_model.word_index[start_token]]\n",
        "    output = tf.expand_dims(decoder_input, 0)\n",
        "    \n",
        "    for i in range(max_len_summary):\n",
        "        \n",
        "        predictions, attention_weights = transformer_model(inputs=[encoder_input, output], training = False)\n",
        "\n",
        "        predictions = predictions[: ,-1:, :]\n",
        "        predicted_id = tf.cast(tf.argmax(predictions, axis=-1), tf.int32)\n",
        "        # stop prediciting if it reached end_token\n",
        "        end_token = 'eos'\n",
        "        if predicted_id == tokenizer_model.word_index[end_token]:\n",
        "            return tf.squeeze(output, axis=0), attention_weights\n",
        "\n",
        "        output = tf.concat([output, predicted_id], axis=-1)\n",
        "    return tf.squeeze(output, axis=0), attention_weights\n",
        "\n",
        "def summarize(input_document):\n",
        "    # not considering attention weights for now, can be used to plot attention heatmaps in the future\n",
        "    summarized = evaluate(input_document=input_document)[0].numpy()\n",
        "    summarized = np.expand_dims(summarized[1:], 0)  # remove start_token\n",
        "    return tokenizer_model.sequences_to_texts(summarized)[0]  # since there is just one translated document"
      ]
    },
    {
      "cell_type": "code",
      "execution_count": 71,
      "metadata": {
        "colab": {
          "base_uri": "https://localhost:8080/"
        },
        "id": "HkUcrGArAJKu",
        "outputId": "acf592ff-7fae-43c7-9a84-5a6d895ba6b7"
      },
      "outputs": [
        {
          "output_type": "stream",
          "name": "stdout",
          "text": [
            "original review: <SOS> love love love tea amazing actually bought gift someone year ended getting well shipping great time holidays bad comes around year would drink year round would even better loose leaf see option pod option <EOS>\n",
            "generated summary: great tea\n",
            "original summary: <SOS> best gift give receive <EOS>\n"
          ]
        }
      ],
      "source": [
        "i1 = 359\n",
        "print('original review:', x_val[i1])\n",
        "print('generated summary:',summarize(clean_data(x_val[i1])))\n",
        "print('original summary:', y_val[i1])"
      ]
    },
    {
      "cell_type": "code",
      "execution_count": 72,
      "metadata": {
        "colab": {
          "base_uri": "https://localhost:8080/"
        },
        "id": "8xV_QFmuZmej",
        "outputId": "0888610a-e744-493d-af66-10701a4bb619"
      },
      "outputs": [
        {
          "output_type": "stream",
          "name": "stdout",
          "text": [
            "original review: <SOS> okay told amazon review way short needed post review actual product made comment shipping charges way expensive whatever needs said <br ><br >anyway chorizo chorizo looking small links grew used much dishes many products buy even come close real thing real thing alot paprika still 2 links left saving rainy day despite shipping charges would buy <EOS>\n",
            "generated summary: good product\n",
            "original summary: <SOS> delicioso <EOS>\n"
          ]
        }
      ],
      "source": [
        "i2 = 125\n",
        "print('original review:', x_val[i2])\n",
        "print('generated summary:',summarize(clean_data(x_val[i2])))\n",
        "print('original summary:', y_val[i2])"
      ]
    },
    {
      "cell_type": "code",
      "source": [
        "i3 = 4857\n",
        "print('original review:', x_val[i3])\n",
        "print('generated summary:',summarize(clean_data(x_val[i3])))\n",
        "print('original summary:', y_val[i3])"
      ],
      "metadata": {
        "colab": {
          "base_uri": "https://localhost:8080/"
        },
        "id": "rVVYYkcoZwCc",
        "outputId": "75aa4046-f3de-49bc-d63d-fe6972cf7f35"
      },
      "execution_count": 73,
      "outputs": [
        {
          "output_type": "stream",
          "name": "stdout",
          "text": [
            "original review: <SOS> yummy minty really minty really yummy <br ><br >the plastic packaging bit large pants shirt pocket handy counter desk drawer ir coat pocket 1 2 top case flips open lid works well <EOS>\n",
            "generated summary: great product\n",
            "original summary: <SOS> good strong mints <EOS>\n"
          ]
        }
      ]
    },
    {
      "cell_type": "code",
      "source": [
        ""
      ],
      "metadata": {
        "id": "Ry5F250kaP73"
      },
      "execution_count": null,
      "outputs": []
    }
  ],
  "metadata": {
    "accelerator": "GPU",
    "colab": {
      "collapsed_sections": [],
      "name": "text_summerizer_transformer_model_final.ipynb",
      "provenance": []
    },
    "kernelspec": {
      "display_name": "Python 3",
      "language": "python",
      "name": "python3"
    },
    "language_info": {
      "codemirror_mode": {
        "name": "ipython",
        "version": 3
      },
      "file_extension": ".py",
      "mimetype": "text/x-python",
      "name": "python",
      "nbconvert_exporter": "python",
      "pygments_lexer": "ipython3",
      "version": "3.8.3"
    }
  },
  "nbformat": 4,
  "nbformat_minor": 0
}